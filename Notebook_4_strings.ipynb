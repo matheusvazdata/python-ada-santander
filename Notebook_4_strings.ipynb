{
  "cells": [
    {
      "cell_type": "markdown",
      "metadata": {
        "id": "view-in-github",
        "colab_type": "text"
      },
      "source": [
        "<a href=\"https://colab.research.google.com/github/matheusvazdata/python-ada-santander/blob/main/Notebook_4_strings.ipynb\" target=\"_parent\"><img src=\"https://colab.research.google.com/assets/colab-badge.svg\" alt=\"Open In Colab\"/></a>"
      ]
    },
    {
      "cell_type": "markdown",
      "metadata": {
        "id": "4kZBFqkeowUx"
      },
      "source": [
        "# Aula 4 - strings\n",
        "\n",
        "Na aula de hoje, vamos explorar os seguintes tópicos em Python:\n",
        "\n",
        "- 1) Strings\n",
        "- 2) Funções de Strings\n",
        "    - 2.1) Formatação de strings\n",
        "_____________\n",
        "\n",
        "### Problema gerador: como validar input do usuário de estado civil de maneira mais flexível?\n",
        "\n",
        "\"S\", \"C\", \"D\", \"V\", sem a necessidade do usuário digitar com a capitalização correta."
      ]
    },
    {
      "cell_type": "markdown",
      "metadata": {
        "id": "bEZ5wxrRowU0"
      },
      "source": [
        "____"
      ]
    },
    {
      "cell_type": "markdown",
      "metadata": {
        "id": "3vLU6XLbowU2"
      },
      "source": [
        "## 1) Strings\n",
        "\n",
        "Desde a primeira aula, temos trabalhado com strings, que, como vimos, representam **dados textuais**\n",
        "\n",
        "Vamos, agora, olhar pra strings um pouco mais a fundo, e aprender algumas funções para trabalharmos com strings"
      ]
    },
    {
      "cell_type": "markdown",
      "metadata": {
        "id": "ocU8gfV2owU3"
      },
      "source": [
        "Uma string nada mais é do que uma **coleção de caracteres**!\n",
        "\n",
        "Assim, podemos acessar caracteres específicos ou então um intervalo de caracteres de uma string, como se fosse uma lista!\n",
        "\n",
        "**OBS.: Para strings também, o índice começa em 0, e podemos usar índices negativos!**"
      ]
    },
    {
      "cell_type": "code",
      "execution_count": 1,
      "metadata": {
        "id": "YpzMx2AHowU4"
      },
      "outputs": [],
      "source": [
        "nome = \"Matheus\""
      ]
    },
    {
      "cell_type": "code",
      "source": [
        "nome[0]"
      ],
      "metadata": {
        "colab": {
          "base_uri": "https://localhost:8080/",
          "height": 35
        },
        "id": "3x9dZg4rZ1lz",
        "outputId": "64953f1d-4031-459e-d115-72e152d082f5"
      },
      "execution_count": 2,
      "outputs": [
        {
          "output_type": "execute_result",
          "data": {
            "text/plain": [
              "'M'"
            ],
            "application/vnd.google.colaboratory.intrinsic+json": {
              "type": "string"
            }
          },
          "metadata": {},
          "execution_count": 2
        }
      ]
    },
    {
      "cell_type": "code",
      "source": [
        "nome[-1]"
      ],
      "metadata": {
        "colab": {
          "base_uri": "https://localhost:8080/",
          "height": 35
        },
        "id": "VYFzopZEaBvv",
        "outputId": "0471b20b-5a6b-4a82-dff6-18923869f568"
      },
      "execution_count": 3,
      "outputs": [
        {
          "output_type": "execute_result",
          "data": {
            "text/plain": [
              "'s'"
            ],
            "application/vnd.google.colaboratory.intrinsic+json": {
              "type": "string"
            }
          },
          "metadata": {},
          "execution_count": 3
        }
      ]
    },
    {
      "cell_type": "markdown",
      "metadata": {
        "id": "7nddixnFowU5"
      },
      "source": [
        "Para saber o comprimento de uma string (quantos caracteres ela tem, incluindo espaços e pontuações), use a função len():"
      ]
    },
    {
      "cell_type": "code",
      "execution_count": 4,
      "metadata": {
        "id": "VB0NSofwowU5",
        "colab": {
          "base_uri": "https://localhost:8080/"
        },
        "outputId": "4a2351a6-5c5a-4d83-cdda-d5d7623e11b6"
      },
      "outputs": [
        {
          "output_type": "execute_result",
          "data": {
            "text/plain": [
              "7"
            ]
          },
          "metadata": {},
          "execution_count": 4
        }
      ],
      "source": [
        "len(nome)"
      ]
    },
    {
      "cell_type": "markdown",
      "metadata": {
        "id": "zN7NBJ8ZowU6"
      },
      "source": [
        "Podemos também percorrer cada caractere da string com o `for` -- strings são objetos **iteráveis**:"
      ]
    },
    {
      "cell_type": "code",
      "execution_count": 5,
      "metadata": {
        "id": "xDZx5ifgowU7",
        "colab": {
          "base_uri": "https://localhost:8080/"
        },
        "outputId": "632aab8c-bfd7-4d6a-ccde-82a5ad49767a"
      },
      "outputs": [
        {
          "output_type": "stream",
          "name": "stdout",
          "text": [
            "M\n",
            "a\n",
            "t\n",
            "h\n",
            "e\n",
            "u\n",
            "s\n"
          ]
        }
      ],
      "source": [
        "for caractere in nome:\n",
        "  print(caractere)"
      ]
    },
    {
      "cell_type": "markdown",
      "metadata": {
        "id": "1-lY3ojYowU8"
      },
      "source": [
        "Dá pra fazer o mesmo com o range() e o len():"
      ]
    },
    {
      "cell_type": "code",
      "execution_count": 6,
      "metadata": {
        "id": "WqPcAOEeowU9",
        "colab": {
          "base_uri": "https://localhost:8080/"
        },
        "outputId": "a1d5a1f0-51b5-40f5-dc62-854d8f5749cd"
      },
      "outputs": [
        {
          "output_type": "stream",
          "name": "stdout",
          "text": [
            "0 M\n",
            "1 a\n",
            "2 t\n",
            "3 h\n",
            "4 e\n",
            "5 u\n",
            "6 s\n"
          ]
        }
      ],
      "source": [
        "for i in range(len(nome)):\n",
        "  print(i, nome[i])"
      ]
    },
    {
      "cell_type": "markdown",
      "metadata": {
        "id": "2855zkXCowU-"
      },
      "source": [
        "Apesar de se parecer com uma lista, a string não tem exatamente as propriedades de uma lista. Por exemplo, **não podemos alterar** caracteres individualmente:"
      ]
    },
    {
      "cell_type": "code",
      "execution_count": 7,
      "metadata": {
        "id": "uyxhhSuGowU_",
        "colab": {
          "base_uri": "https://localhost:8080/"
        },
        "outputId": "8ab95a4a-0411-4d7b-b7b9-34a63ea76784"
      },
      "outputs": [
        {
          "output_type": "execute_result",
          "data": {
            "text/plain": [
              "[1, 2, 5]"
            ]
          },
          "metadata": {},
          "execution_count": 7
        }
      ],
      "source": [
        "lista = [1, 2, 3]\n",
        "\n",
        "lista[-1] = 5\n",
        "\n",
        "lista"
      ]
    },
    {
      "cell_type": "code",
      "source": [
        "nome"
      ],
      "metadata": {
        "colab": {
          "base_uri": "https://localhost:8080/",
          "height": 35
        },
        "id": "EjGZLcGUa0Cc",
        "outputId": "4fba9ad3-4d13-40cf-d1d4-5d30970d35e7"
      },
      "execution_count": 8,
      "outputs": [
        {
          "output_type": "execute_result",
          "data": {
            "text/plain": [
              "'Matheus'"
            ],
            "application/vnd.google.colaboratory.intrinsic+json": {
              "type": "string"
            }
          },
          "metadata": {},
          "execution_count": 8
        }
      ]
    },
    {
      "cell_type": "code",
      "source": [
        "nome[-1] = \"E\""
      ],
      "metadata": {
        "colab": {
          "base_uri": "https://localhost:8080/",
          "height": 141
        },
        "id": "-6T0Wq9Za51z",
        "outputId": "668090dc-d287-4b55-8ee4-6f3c197e776e"
      },
      "execution_count": 9,
      "outputs": [
        {
          "output_type": "error",
          "ename": "TypeError",
          "evalue": "'str' object does not support item assignment",
          "traceback": [
            "\u001b[0;31m---------------------------------------------------------------------------\u001b[0m",
            "\u001b[0;31mTypeError\u001b[0m                                 Traceback (most recent call last)",
            "\u001b[0;32m<ipython-input-9-7022fc079559>\u001b[0m in \u001b[0;36m<cell line: 1>\u001b[0;34m()\u001b[0m\n\u001b[0;32m----> 1\u001b[0;31m \u001b[0mnome\u001b[0m\u001b[0;34m[\u001b[0m\u001b[0;34m-\u001b[0m\u001b[0;36m1\u001b[0m\u001b[0;34m]\u001b[0m \u001b[0;34m=\u001b[0m \u001b[0;34m\"E\"\u001b[0m\u001b[0;34m\u001b[0m\u001b[0;34m\u001b[0m\u001b[0m\n\u001b[0m",
            "\u001b[0;31mTypeError\u001b[0m: 'str' object does not support item assignment"
          ]
        }
      ]
    },
    {
      "cell_type": "markdown",
      "metadata": {
        "id": "zBPhHOlUowU_"
      },
      "source": [
        "Mas nós conseguimos **alterar caracteres (ou palavras)** com o método \"replace()\":"
      ]
    },
    {
      "cell_type": "code",
      "execution_count": 12,
      "metadata": {
        "id": "_7dUDhNKowVA",
        "colab": {
          "base_uri": "https://localhost:8080/",
          "height": 35
        },
        "outputId": "dba47c00-fb6c-4a0d-c409-5f62715a43ff"
      },
      "outputs": [
        {
          "output_type": "execute_result",
          "data": {
            "text/plain": [
              "'MatheuS'"
            ],
            "application/vnd.google.colaboratory.intrinsic+json": {
              "type": "string"
            }
          },
          "metadata": {},
          "execution_count": 12
        }
      ],
      "source": [
        "nome.replace(\"s\", \"S\")"
      ]
    },
    {
      "cell_type": "code",
      "source": [
        "nome"
      ],
      "metadata": {
        "colab": {
          "base_uri": "https://localhost:8080/",
          "height": 35
        },
        "id": "UhMgxHyRbOdw",
        "outputId": "4a00830c-8447-4223-965d-22263e556a20"
      },
      "execution_count": 13,
      "outputs": [
        {
          "output_type": "execute_result",
          "data": {
            "text/plain": [
              "'Matheus'"
            ],
            "application/vnd.google.colaboratory.intrinsic+json": {
              "type": "string"
            }
          },
          "metadata": {},
          "execution_count": 13
        }
      ]
    },
    {
      "cell_type": "code",
      "source": [
        "nome = nome.replace(\"s\", \"S\")"
      ],
      "metadata": {
        "id": "UesxanzgbQp_"
      },
      "execution_count": 14,
      "outputs": []
    },
    {
      "cell_type": "code",
      "source": [
        "nome"
      ],
      "metadata": {
        "colab": {
          "base_uri": "https://localhost:8080/",
          "height": 35
        },
        "id": "3DPM3kC2bWwk",
        "outputId": "db44f682-93b6-48a8-9200-a2a294123790"
      },
      "execution_count": 15,
      "outputs": [
        {
          "output_type": "execute_result",
          "data": {
            "text/plain": [
              "'MatheuS'"
            ],
            "application/vnd.google.colaboratory.intrinsic+json": {
              "type": "string"
            }
          },
          "metadata": {},
          "execution_count": 15
        }
      ]
    },
    {
      "cell_type": "markdown",
      "metadata": {
        "id": "BLN0FW8SowVB"
      },
      "source": [
        "Podemos **transformar uma string em uma lista de caracteres**, explicitamente, usando a fução \"list()\""
      ]
    },
    {
      "cell_type": "code",
      "execution_count": 16,
      "metadata": {
        "id": "ZgaUi_lxowVB"
      },
      "outputs": [],
      "source": [
        "nome = \"Matheus\"\n",
        "\n",
        "nome_lista = list(nome)"
      ]
    },
    {
      "cell_type": "markdown",
      "metadata": {
        "id": "NEdzFFUQowVC"
      },
      "source": [
        "Agora sim, podemos alterar um elemento da lista:"
      ]
    },
    {
      "cell_type": "code",
      "execution_count": 17,
      "metadata": {
        "id": "SKapyW5EowVD"
      },
      "outputs": [],
      "source": [
        "nome_lista[-1] = \"S\""
      ]
    },
    {
      "cell_type": "code",
      "source": [
        "nome_lista"
      ],
      "metadata": {
        "colab": {
          "base_uri": "https://localhost:8080/"
        },
        "id": "wLcNXi12byQy",
        "outputId": "7e07469c-d31a-44b3-84c1-9c2c2a0d2a8b"
      },
      "execution_count": 18,
      "outputs": [
        {
          "output_type": "execute_result",
          "data": {
            "text/plain": [
              "['M', 'a', 't', 'h', 'e', 'u', 'S']"
            ]
          },
          "metadata": {},
          "execution_count": 18
        }
      ]
    },
    {
      "cell_type": "markdown",
      "metadata": {
        "id": "H2aXPvLZowVD"
      },
      "source": [
        "E, pra trasnformar a lista de volta pra string, usamos a função \"join()\":"
      ]
    },
    {
      "cell_type": "code",
      "source": [
        "nome_lista"
      ],
      "metadata": {
        "colab": {
          "base_uri": "https://localhost:8080/"
        },
        "id": "1BO7hDgRcCtJ",
        "outputId": "1deac1c4-04c3-4365-f83e-172e65f8d347"
      },
      "execution_count": 19,
      "outputs": [
        {
          "output_type": "execute_result",
          "data": {
            "text/plain": [
              "['M', 'a', 't', 'h', 'e', 'u', 'S']"
            ]
          },
          "metadata": {},
          "execution_count": 19
        }
      ]
    },
    {
      "cell_type": "code",
      "execution_count": 20,
      "metadata": {
        "id": "Egn5wGnFowVD",
        "colab": {
          "base_uri": "https://localhost:8080/",
          "height": 35
        },
        "outputId": "a8f7876e-2f8f-42c1-d9cd-61c3e2f1c301"
      },
      "outputs": [
        {
          "output_type": "execute_result",
          "data": {
            "text/plain": [
              "'MatheuS'"
            ],
            "application/vnd.google.colaboratory.intrinsic+json": {
              "type": "string"
            }
          },
          "metadata": {},
          "execution_count": 20
        }
      ],
      "source": [
        "''.join(nome_lista)"
      ]
    },
    {
      "cell_type": "code",
      "source": [
        "'_'.join(nome_lista)"
      ],
      "metadata": {
        "colab": {
          "base_uri": "https://localhost:8080/",
          "height": 35
        },
        "id": "5Z3UskqHcV6J",
        "outputId": "e467f994-37ea-42fe-e299-75f870db48f7"
      },
      "execution_count": 21,
      "outputs": [
        {
          "output_type": "execute_result",
          "data": {
            "text/plain": [
              "'M_a_t_h_e_u_S'"
            ],
            "application/vnd.google.colaboratory.intrinsic+json": {
              "type": "string"
            }
          },
          "metadata": {},
          "execution_count": 21
        }
      ]
    },
    {
      "cell_type": "markdown",
      "metadata": {
        "id": "SUnpARuGowVE"
      },
      "source": [
        "Como já vimos, podemos fazer **operações com strings**!"
      ]
    },
    {
      "cell_type": "markdown",
      "metadata": {
        "id": "ghHp5g14owVF"
      },
      "source": [
        "Soma de strings: ao somar duas strings, elas são concatenadas:"
      ]
    },
    {
      "cell_type": "code",
      "execution_count": 22,
      "metadata": {
        "id": "m5vYvSGoowVK",
        "colab": {
          "base_uri": "https://localhost:8080/",
          "height": 35
        },
        "outputId": "1549e877-fe5b-4568-c47c-7a855a96f486"
      },
      "outputs": [
        {
          "output_type": "execute_result",
          "data": {
            "text/plain": [
              "'ab'"
            ],
            "application/vnd.google.colaboratory.intrinsic+json": {
              "type": "string"
            }
          },
          "metadata": {},
          "execution_count": 22
        }
      ],
      "source": [
        "\"a\" + \"b\""
      ]
    },
    {
      "cell_type": "markdown",
      "metadata": {
        "id": "Nyb6fdvCowVL"
      },
      "source": [
        "Multiplicação de string por inteiro: ao multiplicar uma string por um número inteiro, a string é repetida:"
      ]
    },
    {
      "cell_type": "code",
      "execution_count": 23,
      "metadata": {
        "id": "tqVUTQBZowVM",
        "colab": {
          "base_uri": "https://localhost:8080/",
          "height": 35
        },
        "outputId": "b3c67951-c7e7-4fe0-efe8-463addc4a906"
      },
      "outputs": [
        {
          "output_type": "execute_result",
          "data": {
            "text/plain": [
              "'abcabcabcabcabc'"
            ],
            "application/vnd.google.colaboratory.intrinsic+json": {
              "type": "string"
            }
          },
          "metadata": {},
          "execution_count": 23
        }
      ],
      "source": [
        "\"abc\"*5"
      ]
    },
    {
      "cell_type": "code",
      "source": [
        "print(\"=\"*50)\n",
        "print(\"OLÁ, BEM-VINDOS À ADA TECH\".center(50))\n",
        "print(\"=\"*50)"
      ],
      "metadata": {
        "colab": {
          "base_uri": "https://localhost:8080/"
        },
        "id": "wYiVt0tVcxos",
        "outputId": "1b904d43-8b18-4d85-9d54-4f2b10f4f88e"
      },
      "execution_count": 24,
      "outputs": [
        {
          "output_type": "stream",
          "name": "stdout",
          "text": [
            "==================================================\n",
            "            OLÁ, BEM-VINDOS À ADA TECH            \n",
            "==================================================\n"
          ]
        }
      ]
    },
    {
      "cell_type": "code",
      "source": [
        "\"OLÁ, BEM-VINDOS À ADA TECH\".center(50)"
      ],
      "metadata": {
        "colab": {
          "base_uri": "https://localhost:8080/",
          "height": 35
        },
        "id": "8OQ1PIpgdTL-",
        "outputId": "a046a265-6222-4f4e-ec0d-60d03f9b37e6"
      },
      "execution_count": 25,
      "outputs": [
        {
          "output_type": "execute_result",
          "data": {
            "text/plain": [
              "'            OLÁ, BEM-VINDOS À ADA TECH            '"
            ],
            "application/vnd.google.colaboratory.intrinsic+json": {
              "type": "string"
            }
          },
          "metadata": {},
          "execution_count": 25
        }
      ]
    },
    {
      "cell_type": "markdown",
      "metadata": {
        "id": "uFz834LaowVM"
      },
      "source": [
        "__________"
      ]
    },
    {
      "cell_type": "markdown",
      "metadata": {
        "id": "ptDc5JUJowVM"
      },
      "source": [
        "## 2) Funções de strings\n",
        "\n",
        "Como listas, strings também têm algumas funções específicas. Algumas delas são:"
      ]
    },
    {
      "cell_type": "code",
      "source": [
        "boas_vindas_ada = 'Bem vindos à Ada!'"
      ],
      "metadata": {
        "id": "j3AtyxvMdwl2"
      },
      "execution_count": 26,
      "outputs": []
    },
    {
      "cell_type": "markdown",
      "metadata": {
        "id": "G_hzKE8xowVM"
      },
      "source": [
        ".upper(): transforma todos os caracteres em maiúscula"
      ]
    },
    {
      "cell_type": "code",
      "execution_count": 27,
      "metadata": {
        "id": "Na-19RqAowVN",
        "colab": {
          "base_uri": "https://localhost:8080/",
          "height": 35
        },
        "outputId": "51e3399a-cb90-4edd-e647-0c2a2890ef6f"
      },
      "outputs": [
        {
          "output_type": "execute_result",
          "data": {
            "text/plain": [
              "'BEM VINDOS À ADA!'"
            ],
            "application/vnd.google.colaboratory.intrinsic+json": {
              "type": "string"
            }
          },
          "metadata": {},
          "execution_count": 27
        }
      ],
      "source": [
        "boas_vindas_ada.upper()"
      ]
    },
    {
      "cell_type": "markdown",
      "metadata": {
        "id": "abrD2mXYowVN"
      },
      "source": [
        ".lower(): trasnforma todos os caracteres em minúscula"
      ]
    },
    {
      "cell_type": "code",
      "execution_count": 28,
      "metadata": {
        "id": "aVuPRXRcowVO",
        "colab": {
          "base_uri": "https://localhost:8080/",
          "height": 35
        },
        "outputId": "42038a07-7077-49fa-8753-b97ca691e4c4"
      },
      "outputs": [
        {
          "output_type": "execute_result",
          "data": {
            "text/plain": [
              "'bem vindos à ada!'"
            ],
            "application/vnd.google.colaboratory.intrinsic+json": {
              "type": "string"
            }
          },
          "metadata": {},
          "execution_count": 28
        }
      ],
      "source": [
        "boas_vindas_ada.lower()"
      ]
    },
    {
      "cell_type": "markdown",
      "metadata": {
        "id": "jHq9Fru2owVP"
      },
      "source": [
        ".title(): deixa a primeira letra de cada palavra em maiúscula"
      ]
    },
    {
      "cell_type": "code",
      "execution_count": 29,
      "metadata": {
        "id": "CGWK5yocowVP",
        "colab": {
          "base_uri": "https://localhost:8080/",
          "height": 35
        },
        "outputId": "d3939e67-2cdb-45d6-eace-9dfa66ff21c1"
      },
      "outputs": [
        {
          "output_type": "execute_result",
          "data": {
            "text/plain": [
              "'Bem Vindos À Ada!'"
            ],
            "application/vnd.google.colaboratory.intrinsic+json": {
              "type": "string"
            }
          },
          "metadata": {},
          "execution_count": 29
        }
      ],
      "source": [
        "boas_vindas_ada.title()"
      ]
    },
    {
      "cell_type": "markdown",
      "metadata": {
        "id": "bysaG1RcowVQ"
      },
      "source": [
        ".capitalize(): deixa a primeira letra da primeira palavra em maiúscula"
      ]
    },
    {
      "cell_type": "code",
      "execution_count": 30,
      "metadata": {
        "id": "QREheJy9owVQ",
        "colab": {
          "base_uri": "https://localhost:8080/",
          "height": 35
        },
        "outputId": "7c503e3e-4b69-4ea7-bc06-5c7efeb4005b"
      },
      "outputs": [
        {
          "output_type": "execute_result",
          "data": {
            "text/plain": [
              "'Bem vindos à ada!'"
            ],
            "application/vnd.google.colaboratory.intrinsic+json": {
              "type": "string"
            }
          },
          "metadata": {},
          "execution_count": 30
        }
      ],
      "source": [
        "boas_vindas_ada.capitalize()"
      ]
    },
    {
      "cell_type": "markdown",
      "metadata": {
        "id": "7FLvZWogowVR"
      },
      "source": [
        "É possível quebrar uma string em determinado caractere, tendo como resultado uma **lista com os caracteres além da quebra**.\n",
        "\n",
        "- Para quebrar nos espaços, use a função \".split()\", sem argumento"
      ]
    },
    {
      "cell_type": "code",
      "execution_count": 31,
      "metadata": {
        "id": "NWFCH-GqowVR",
        "colab": {
          "base_uri": "https://localhost:8080/"
        },
        "outputId": "6691f9bd-12d7-4fe6-8c29-ec1b7de7a0ad"
      },
      "outputs": [
        {
          "output_type": "execute_result",
          "data": {
            "text/plain": [
              "['B',\n",
              " 'e',\n",
              " 'm',\n",
              " ' ',\n",
              " 'v',\n",
              " 'i',\n",
              " 'n',\n",
              " 'd',\n",
              " 'o',\n",
              " 's',\n",
              " ' ',\n",
              " 'à',\n",
              " ' ',\n",
              " 'A',\n",
              " 'd',\n",
              " 'a',\n",
              " '!']"
            ]
          },
          "metadata": {},
          "execution_count": 31
        }
      ],
      "source": [
        "list(boas_vindas_ada)"
      ]
    },
    {
      "cell_type": "code",
      "source": [
        "boas_vindas_ada"
      ],
      "metadata": {
        "colab": {
          "base_uri": "https://localhost:8080/",
          "height": 35
        },
        "id": "IO2w2tX2eeXL",
        "outputId": "dd1ae079-2bf9-4bb8-9f59-a141ae314be0"
      },
      "execution_count": 32,
      "outputs": [
        {
          "output_type": "execute_result",
          "data": {
            "text/plain": [
              "'Bem vindos à Ada!'"
            ],
            "application/vnd.google.colaboratory.intrinsic+json": {
              "type": "string"
            }
          },
          "metadata": {},
          "execution_count": 32
        }
      ]
    },
    {
      "cell_type": "code",
      "source": [
        "boas_vindas_ada.split()"
      ],
      "metadata": {
        "colab": {
          "base_uri": "https://localhost:8080/"
        },
        "id": "KWKhURbfeXBs",
        "outputId": "14f97b52-3a27-4a8e-a24f-9cc03253b218"
      },
      "execution_count": 33,
      "outputs": [
        {
          "output_type": "execute_result",
          "data": {
            "text/plain": [
              "['Bem', 'vindos', 'à', 'Ada!']"
            ]
          },
          "metadata": {},
          "execution_count": 33
        }
      ]
    },
    {
      "cell_type": "markdown",
      "metadata": {
        "id": "2q6KIPUnowVR"
      },
      "source": [
        "- Para quebrar em algum caracter, use o caractere como argumento:"
      ]
    },
    {
      "cell_type": "code",
      "execution_count": 34,
      "metadata": {
        "id": "LQ5HRn5powVS",
        "colab": {
          "base_uri": "https://localhost:8080/"
        },
        "outputId": "d679c7c2-b20c-477f-edc7-70ef83c416a2"
      },
      "outputs": [
        {
          "output_type": "execute_result",
          "data": {
            "text/plain": [
              "['Bem vi', 'dos à Ada!']"
            ]
          },
          "metadata": {},
          "execution_count": 34
        }
      ],
      "source": [
        "boas_vindas_ada.split(\"n\")"
      ]
    },
    {
      "cell_type": "code",
      "source": [
        "string = \"eu gosto de estudar python\"\n",
        "\n",
        "string.split(\"o\")"
      ],
      "metadata": {
        "colab": {
          "base_uri": "https://localhost:8080/"
        },
        "id": "oWl7dpYsfE11",
        "outputId": "7624b9c2-43d5-4333-9acb-e5c9a1a4b50e"
      },
      "execution_count": 35,
      "outputs": [
        {
          "output_type": "execute_result",
          "data": {
            "text/plain": [
              "['eu g', 'st', ' de estudar pyth', 'n']"
            ]
          },
          "metadata": {},
          "execution_count": 35
        }
      ]
    },
    {
      "cell_type": "markdown",
      "metadata": {
        "id": "2-I-XBN6owVS"
      },
      "source": [
        "__Tirar espaços que tão sobrando no fim e no início da string__\n",
        "\n",
        "Utilize a função strip()"
      ]
    },
    {
      "cell_type": "code",
      "execution_count": 36,
      "metadata": {
        "id": "EdxP6ItrowVS",
        "colab": {
          "base_uri": "https://localhost:8080/",
          "height": 35
        },
        "outputId": "f33d8d5d-f8c8-4138-9990-d41614de9870"
      },
      "outputs": [
        {
          "output_type": "execute_result",
          "data": {
            "text/plain": [
              "'eu gosto de estudar python'"
            ],
            "application/vnd.google.colaboratory.intrinsic+json": {
              "type": "string"
            }
          },
          "metadata": {},
          "execution_count": 36
        }
      ],
      "source": [
        "string = \"            eu gosto de estudar python   \"\n",
        "\n",
        "string.strip()"
      ]
    },
    {
      "cell_type": "markdown",
      "metadata": {
        "id": "46TqiJ1jowVS"
      },
      "source": [
        "Mas essa função não elimina espaços extrar no \"meio\" da string -- apenas no início e no fim!"
      ]
    },
    {
      "cell_type": "code",
      "execution_count": 37,
      "metadata": {
        "id": "TdxDol0WowVS",
        "colab": {
          "base_uri": "https://localhost:8080/",
          "height": 35
        },
        "outputId": "8955c092-8a69-45b3-e308-0b0833876c54"
      },
      "outputs": [
        {
          "output_type": "execute_result",
          "data": {
            "text/plain": [
              "'eu    gosto de         estudar python'"
            ],
            "application/vnd.google.colaboratory.intrinsic+json": {
              "type": "string"
            }
          },
          "metadata": {},
          "execution_count": 37
        }
      ],
      "source": [
        "string = \"            eu    gosto de         estudar python   \"\n",
        "\n",
        "string.strip()"
      ]
    },
    {
      "cell_type": "markdown",
      "metadata": {
        "id": "juN96USDowVS"
      },
      "source": [
        "__Pra tirar espaços do meio, podemos fazer:__"
      ]
    },
    {
      "cell_type": "code",
      "source": [
        "string"
      ],
      "metadata": {
        "colab": {
          "base_uri": "https://localhost:8080/",
          "height": 35
        },
        "id": "L-lv6Hp0fyxd",
        "outputId": "76b81971-1eee-48c0-8b54-d60fd650a205"
      },
      "execution_count": 38,
      "outputs": [
        {
          "output_type": "execute_result",
          "data": {
            "text/plain": [
              "'            eu    gosto de         estudar python   '"
            ],
            "application/vnd.google.colaboratory.intrinsic+json": {
              "type": "string"
            }
          },
          "metadata": {},
          "execution_count": 38
        }
      ]
    },
    {
      "cell_type": "code",
      "execution_count": 39,
      "metadata": {
        "id": "edYL2kzDowVT",
        "colab": {
          "base_uri": "https://localhost:8080/",
          "height": 35
        },
        "outputId": "77310a58-2796-414a-8c75-5dd1ac380274"
      },
      "outputs": [
        {
          "output_type": "execute_result",
          "data": {
            "text/plain": [
              "'eu gosto de estudar python'"
            ],
            "application/vnd.google.colaboratory.intrinsic+json": {
              "type": "string"
            }
          },
          "metadata": {},
          "execution_count": 39
        }
      ],
      "source": [
        "lista_str = string.split()\n",
        "\n",
        "\" \".join(lista_str)"
      ]
    },
    {
      "cell_type": "code",
      "source": [
        "# limpar espaços a mais (duplicados) do começo, meio e fim da string\n",
        "\" \".join(string.split())"
      ],
      "metadata": {
        "colab": {
          "base_uri": "https://localhost:8080/",
          "height": 35
        },
        "id": "oUairP9Mf_DK",
        "outputId": "72397555-c7d6-4bd3-a0c0-807773738d6b"
      },
      "execution_count": 40,
      "outputs": [
        {
          "output_type": "execute_result",
          "data": {
            "text/plain": [
              "'eu gosto de estudar python'"
            ],
            "application/vnd.google.colaboratory.intrinsic+json": {
              "type": "string"
            }
          },
          "metadata": {},
          "execution_count": 40
        }
      ]
    },
    {
      "cell_type": "markdown",
      "metadata": {
        "id": "29pShqyhowVU"
      },
      "source": [
        "Outras funções interessantes...\n",
        "\n",
        "- isdigit()\n",
        "- isalpha()\n",
        "- isalnum()\n",
        "- isspace()"
      ]
    },
    {
      "cell_type": "code",
      "execution_count": 42,
      "metadata": {
        "id": "4mU-bNLgowVV",
        "colab": {
          "base_uri": "https://localhost:8080/"
        },
        "outputId": "96c7cfb9-9fe4-41c3-a08c-3fee0a5cf5f1"
      },
      "outputs": [
        {
          "output_type": "stream",
          "name": "stdout",
          "text": [
            "['e', 'l', 'e', 'd', 'i', 's', 's', 'e', 'p', 'a', 'r', 'a', 'o', 'c', 'o', 'l', 'e', 'g', 'a', 'n', 'o', 's', 'e', 'n', 'c', 'o', 'n', 't', 'r', 'a', 'm', 'o', 's', 'a', 'm', 'a', 'n', 'h', 'ã', 'à', 's']\n",
            "['1', '4', '0', '0']\n",
            "[' ', ' ', ' ', ' ', ':', ' ', '\"', ' ', ' ', ' ', ' ', ':', '?', '\"']\n"
          ]
        }
      ],
      "source": [
        "fala = 'ele disse para o colega: \"nos encontramos amanhã às 14:00?\"'\n",
        "\n",
        "lista_de_letras = []\n",
        "lista_de_numeros = []\n",
        "lista_de_simbolos = []\n",
        "\n",
        "for char in fala:\n",
        "  if char.isalpha():\n",
        "    lista_de_letras.append(char)\n",
        "  elif char.isdigit():\n",
        "    lista_de_numeros.append(char)\n",
        "  else:\n",
        "    lista_de_simbolos.append(char)\n",
        "\n",
        "print(lista_de_letras)\n",
        "print(lista_de_numeros)\n",
        "print(lista_de_simbolos)"
      ]
    },
    {
      "cell_type": "markdown",
      "metadata": {
        "id": "6PZeByAkowVW"
      },
      "source": [
        "___\n",
        "___"
      ]
    },
    {
      "cell_type": "markdown",
      "metadata": {
        "id": "hf2PXiewowVW"
      },
      "source": [
        "### 2.1) Formatação de strings\n",
        "\n",
        "Também podemos **formatar strings**. Isso pode ser super útil tanto ao receber dados do usuário (input) quando ao exbibir dados pro usuário (print)"
      ]
    },
    {
      "cell_type": "markdown",
      "metadata": {
        "id": "HcAGNph_owVW"
      },
      "source": [
        "Um dos usos mais legal do format é para **exibir** strings formatadas.\n",
        "\n",
        "Imagine que você queira exibir uma data no formato dd/mm/aaaa.\n",
        "\n",
        "Em situações normais, dias e meses inferiores a 10 apareceriam com apenas 1 dígito (int não é representado com zeros à esquerda). Porém, podemos especificar no format que gostaríamos de representar um inteiro com 2 dígitos, preenchendo com zero dígitos em branco (à esquerda):\n",
        "\n",
        "```python\n",
        "\n",
        "dia = 1\n",
        "mes = 2\n",
        "ano = 2020\n",
        "data = '{:02d}/{:02d}/{:04d}'.format(dia, mes, ano)\n",
        "print(data) # resultado: 01/02/2020\n",
        "```\n",
        "\n",
        "O símbolo 'd' indica que estamos representando números **inteiros** em base decimal (dígitos de 0 a 9).\n",
        "\n",
        "Os símbolos '2' e '4' indicam, respectivamente, 2 dígitos ou 4 dígitos.\n",
        "\n",
        "o símbolo '0' indica que se faltar dígitos, os espaços devem ser preenchidos com zero"
      ]
    },
    {
      "cell_type": "code",
      "execution_count": 43,
      "metadata": {
        "id": "SnZ7AP0IowVX",
        "colab": {
          "base_uri": "https://localhost:8080/"
        },
        "outputId": "03e115c6-16c9-46c3-9d5f-79d6e4c913bb"
      },
      "outputs": [
        {
          "output_type": "stream",
          "name": "stdout",
          "text": [
            "1/2/2020\n"
          ]
        }
      ],
      "source": [
        "dia, mes, ano = 1, 2, 2020\n",
        "\n",
        "print(dia, \"/\",  mes, \"/\", ano, sep=\"\")"
      ]
    },
    {
      "cell_type": "code",
      "source": [
        "dia, mes, ano = 31, 12, 2024\n",
        "\n",
        "string_data = \"{:02d}/{:02d}/{:04d}\".format(dia, mes, ano)\n",
        "\n",
        "print(string_data)"
      ],
      "metadata": {
        "colab": {
          "base_uri": "https://localhost:8080/"
        },
        "id": "3BMNkgaMizCg",
        "outputId": "abdca445-6982-462b-9b38-0b74958e4915"
      },
      "execution_count": 48,
      "outputs": [
        {
          "output_type": "stream",
          "name": "stdout",
          "text": [
            "31/12/2024\n"
          ]
        }
      ]
    },
    {
      "cell_type": "markdown",
      "metadata": {
        "id": "FYcagJwyowVX"
      },
      "source": [
        "Imagina que você queira exibir algum valor monetário, por exemplo, o preço de alguma coisa.\n",
        "\n",
        "Utilizando float, pode ser que seu resultado tenha apenas uma casa decimal.\n",
        "\n",
        "Mas, se tratando de dinheito, sempre queremos mostrar duas casas decimais!\n",
        "\n",
        "Usaremos o format para representar com apenas 2 casas.\n",
        "\n",
        "```python\n",
        "preco = 1500.5\n",
        "\n",
        "print(preco)\n",
        "\n",
        "precoFinal = 'R$ {:.2f}'.format(preco)\n",
        "\n",
        "print(precoFinal)\n",
        "```\n",
        "\n",
        "Neste caso, o 'f' indica que o número é float.\n",
        "\n",
        "Já o '.2' indica que queremos 2 casas após o ponto decimal.\n",
        "\n",
        "Note que a função não apenas descarta as casas excedentes, e sim arredonda corretamente o número."
      ]
    },
    {
      "cell_type": "code",
      "execution_count": 49,
      "metadata": {
        "id": "nfo1LUPIowVX",
        "colab": {
          "base_uri": "https://localhost:8080/"
        },
        "outputId": "28894353-a7a3-44b2-edbc-f1d0690a2fcc"
      },
      "outputs": [
        {
          "output_type": "stream",
          "name": "stdout",
          "text": [
            "Preço: R$ 1499.5\n"
          ]
        }
      ],
      "source": [
        "preco = 1499.50\n",
        "\n",
        "print(\"Preço: R$\", preco)"
      ]
    },
    {
      "cell_type": "code",
      "source": [
        "preco = 2234.239564565432\n",
        "\n",
        "\"{:.2f}\".format(preco)"
      ],
      "metadata": {
        "colab": {
          "base_uri": "https://localhost:8080/",
          "height": 35
        },
        "id": "F-GT1a6fkDx-",
        "outputId": "6df60ba1-8edb-43ca-ebb9-a370105ab688"
      },
      "execution_count": 50,
      "outputs": [
        {
          "output_type": "execute_result",
          "data": {
            "text/plain": [
              "'2234.24'"
            ],
            "application/vnd.google.colaboratory.intrinsic+json": {
              "type": "string"
            }
          },
          "metadata": {},
          "execution_count": 50
        }
      ]
    },
    {
      "cell_type": "code",
      "source": [
        "preco = 1499.50\n",
        "\n",
        "\"Preço: R$ {:.2f}\".format(preco)"
      ],
      "metadata": {
        "colab": {
          "base_uri": "https://localhost:8080/",
          "height": 35
        },
        "id": "6D47LiHVkeaG",
        "outputId": "cd115601-0344-415a-e8b1-ebb3df201b08"
      },
      "execution_count": 51,
      "outputs": [
        {
          "output_type": "execute_result",
          "data": {
            "text/plain": [
              "'Preço: R$ 1499.50'"
            ],
            "application/vnd.google.colaboratory.intrinsic+json": {
              "type": "string"
            }
          },
          "metadata": {},
          "execution_count": 51
        }
      ]
    },
    {
      "cell_type": "markdown",
      "metadata": {
        "id": "jUwoTG80owVX"
      },
      "source": [
        "Uma outra forma interessante de formatar strings é com a utilização das chamadas [f strings](https://docs.python.org/pt-br/3/tutorial/inputoutput.html#tut-f-strings).\n",
        "\n",
        "Esa formatação permite que coloquemos facilmente variáveis em strings, de maneira fluida! Essa construção é super útil sobretudo na construção de exibições mais complexas.\n",
        "\n",
        "Veja, abaixo, alguns exemplos!"
      ]
    },
    {
      "cell_type": "code",
      "execution_count": 52,
      "metadata": {
        "id": "p5c-Zx6FowVY",
        "colab": {
          "base_uri": "https://localhost:8080/",
          "height": 35
        },
        "outputId": "8b3bfe50-3608-46ac-f00e-d2f2d3c049a9"
      },
      "outputs": [
        {
          "output_type": "execute_result",
          "data": {
            "text/plain": [
              "'Preço: R$ 1499.50'"
            ],
            "application/vnd.google.colaboratory.intrinsic+json": {
              "type": "string"
            }
          },
          "metadata": {},
          "execution_count": 52
        }
      ],
      "source": [
        "\"Preço: R$ {:.2f}\".format(preco)"
      ]
    },
    {
      "cell_type": "code",
      "source": [
        "f\"Preço: R$ {preco:.2f}\""
      ],
      "metadata": {
        "colab": {
          "base_uri": "https://localhost:8080/",
          "height": 35
        },
        "id": "x1nqXs_fkqM2",
        "outputId": "e0d9abfd-6c84-44aa-d5b7-6c7b5ff10da3"
      },
      "execution_count": 53,
      "outputs": [
        {
          "output_type": "execute_result",
          "data": {
            "text/plain": [
              "'Preço: R$ 1499.50'"
            ],
            "application/vnd.google.colaboratory.intrinsic+json": {
              "type": "string"
            }
          },
          "metadata": {},
          "execution_count": 53
        }
      ]
    },
    {
      "cell_type": "markdown",
      "source": [
        "______________\n",
        "\n",
        "## Vamos agora resolver o problema gerador!"
      ],
      "metadata": {
        "id": "J6BqbNL1qi15"
      }
    },
    {
      "cell_type": "code",
      "source": [
        "2 in [1, 2, 3]"
      ],
      "metadata": {
        "colab": {
          "base_uri": "https://localhost:8080/"
        },
        "id": "CRux6Cycl0lt",
        "outputId": "5c68de2c-23c1-44e9-ed8f-3274c65b4384"
      },
      "execution_count": 54,
      "outputs": [
        {
          "output_type": "execute_result",
          "data": {
            "text/plain": [
              "True"
            ]
          },
          "metadata": {},
          "execution_count": 54
        }
      ]
    },
    {
      "cell_type": "code",
      "source": [
        "estado_civil = input(\"Digite seu estado civil (opções possíveis: S, C, D, V): \").upper()\n",
        "\n",
        "print(estado_civil)"
      ],
      "metadata": {
        "colab": {
          "base_uri": "https://localhost:8080/"
        },
        "id": "h8sNE3gzmeHJ",
        "outputId": "7f1c177a-be5e-4678-df08-69b8b89e3b0c"
      },
      "execution_count": 55,
      "outputs": [
        {
          "output_type": "stream",
          "name": "stdout",
          "text": [
            "Digite seu estado civil (opções possíveis: S, C, D, V): s\n",
            "S\n"
          ]
        }
      ]
    },
    {
      "cell_type": "code",
      "source": [
        "estado_civil = input(\"Digite seu estado civil (opções possíveis: S, C, D, V): \").upper()\n",
        "\n",
        "while estado_civil not in [\"S\", \"C\", \"D\", \"V\"]:\n",
        "\n",
        "  estado_civil = input(\"Resposta inválida! Digite seu estado civil (opções possíveis: S, C, D, V): \").upper()\n",
        "\n",
        "print(f\"Estado civil: {estado_civil}\")"
      ],
      "metadata": {
        "id": "Krs6OAirqluT",
        "colab": {
          "base_uri": "https://localhost:8080/"
        },
        "outputId": "2b3ebeb4-3d09-4fb0-9895-31fddd8f19c3"
      },
      "execution_count": 56,
      "outputs": [
        {
          "output_type": "stream",
          "name": "stdout",
          "text": [
            "Digite seu estado civil (opções possíveis: S, C, D, V): C\n",
            "Estado civil: C\n"
          ]
        }
      ]
    },
    {
      "cell_type": "markdown",
      "source": [
        "## Desafio: valide a entrada para que funcione até mesmo se o usuário digitar por extenso \"solteiro\", \"casado\", etc..."
      ],
      "metadata": {
        "id": "0xKQmPE4ne94"
      }
    },
    {
      "cell_type": "code",
      "source": [],
      "metadata": {
        "id": "zW6-vXa5MNmb"
      },
      "execution_count": null,
      "outputs": []
    }
  ],
  "metadata": {
    "kernelspec": {
      "display_name": "Python 3",
      "language": "python",
      "name": "python3"
    },
    "language_info": {
      "codemirror_mode": {
        "name": "ipython",
        "version": 3
      },
      "file_extension": ".py",
      "mimetype": "text/x-python",
      "name": "python",
      "nbconvert_exporter": "python",
      "pygments_lexer": "ipython3",
      "version": "3.8.3"
    },
    "varInspector": {
      "cols": {
        "lenName": 16,
        "lenType": 16,
        "lenVar": 40
      },
      "kernels_config": {
        "python": {
          "delete_cmd_postfix": "",
          "delete_cmd_prefix": "del ",
          "library": "var_list.py",
          "varRefreshCmd": "print(var_dic_list())"
        },
        "r": {
          "delete_cmd_postfix": ") ",
          "delete_cmd_prefix": "rm(",
          "library": "var_list.r",
          "varRefreshCmd": "cat(var_dic_list()) "
        }
      },
      "types_to_exclude": [
        "module",
        "function",
        "builtin_function_or_method",
        "instance",
        "_Feature"
      ],
      "window_display": false
    },
    "colab": {
      "provenance": [],
      "include_colab_link": true
    }
  },
  "nbformat": 4,
  "nbformat_minor": 0
}