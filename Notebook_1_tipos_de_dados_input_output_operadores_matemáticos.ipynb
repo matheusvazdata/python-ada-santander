{
  "cells": [
    {
      "cell_type": "markdown",
      "metadata": {
        "id": "view-in-github",
        "colab_type": "text"
      },
      "source": [
        "<a href=\"https://colab.research.google.com/github/matheusvazdata/python-ada-santander/blob/main/Notebook_1_tipos_de_dados_input_output_operadores_matem%C3%A1ticos.ipynb\" target=\"_parent\"><img src=\"https://colab.research.google.com/assets/colab-badge.svg\" alt=\"Open In Colab\"/></a>"
      ]
    },
    {
      "cell_type": "markdown",
      "metadata": {
        "id": "E_pcA7pLTBOP"
      },
      "source": [
        "# Aula 1 - Tipos de dados, input/output, operadores matemáticos\n",
        "\n",
        "Na aula de hoje, vamos explorar os seguintes tópicos em Python:\n",
        "\n",
        "- 1) Tipos de variáveis;\n",
        "- 2) Comentários;\n",
        "- 3) Saída (output);\n",
        "- 4) Entrada (input);\n",
        "- 5) Operadores Matemáticos;\n",
        "\n",
        "_____________\n",
        "\n",
        "### Problema gerador: como construir uma calculadora em Python?\n",
        "\n",
        "Exemplo: 2 + 2 = 4"
      ]
    },
    {
      "cell_type": "markdown",
      "metadata": {
        "id": "lILLM967TBOT"
      },
      "source": [
        "____"
      ]
    },
    {
      "cell_type": "markdown",
      "metadata": {
        "id": "06pKBSFpTBOU"
      },
      "source": [
        "## 1) Tipos de variáveis\n",
        "\n",
        "Em python, temos 4 **tipos** principais de dados básicos"
      ]
    },
    {
      "cell_type": "markdown",
      "metadata": {
        "id": "v35n5OSVTBOV"
      },
      "source": [
        "~ Tipo **inteiros** (int): são números inteiros, isto é, sem casas decimais.\n",
        "\n",
        "- Ex:\n",
        "    - 1\n",
        "    - 456\n",
        "    - 124023\n",
        "    - 0\n",
        "    - -2 (números to tipo int podem ser negativos!)\n",
        "\n",
        "No Jupyter, números inteiros são destacados em cor verde clara"
      ]
    },
    {
      "cell_type": "markdown",
      "metadata": {
        "id": "Zb4kGbiPTBOW"
      },
      "source": [
        "Exemplo: a idade de uma pessoa em anos, número de filhos de uma pessoa, etc."
      ]
    },
    {
      "cell_type": "code",
      "execution_count": null,
      "metadata": {
        "id": "qdJk1HO5TBOY"
      },
      "outputs": [],
      "source": [
        "numero_de_filhos = 3"
      ]
    },
    {
      "cell_type": "code",
      "source": [
        "numero_de_filhos"
      ],
      "metadata": {
        "colab": {
          "base_uri": "https://localhost:8080/"
        },
        "id": "OjzXPBdRUD1m",
        "outputId": "1510b410-9e72-45cc-c8fb-598ba92400ec"
      },
      "execution_count": null,
      "outputs": [
        {
          "output_type": "execute_result",
          "data": {
            "text/plain": [
              "3"
            ]
          },
          "metadata": {},
          "execution_count": 2
        }
      ]
    },
    {
      "cell_type": "code",
      "source": [
        "type(numero_de_filhos)"
      ],
      "metadata": {
        "colab": {
          "base_uri": "https://localhost:8080/"
        },
        "id": "nKFX6PSlUKce",
        "outputId": "2b5e7f14-1024-496f-885f-eeaaac43dbd0"
      },
      "execution_count": null,
      "outputs": [
        {
          "output_type": "execute_result",
          "data": {
            "text/plain": [
              "int"
            ]
          },
          "metadata": {},
          "execution_count": 3
        }
      ]
    },
    {
      "cell_type": "markdown",
      "metadata": {
        "id": "NgzLZdz1TBOZ"
      },
      "source": [
        "~ Tipo **float** (float): são números com casas decimais (**em python usamos ponto ao invés de vírgula para indicar cadas decimais!**)\n",
        "\n",
        "- Ex:\n",
        "    - 3.1415\n",
        "    - 1.78\n",
        "    - 10.0 (essa é a representação float de um número inteiro, 10)\n",
        "    - -42.73 (números do tipo float podem ser negativos!)\n",
        "\n",
        "No Jupyter, números float também são destacados em cor verde clara"
      ]
    },
    {
      "cell_type": "markdown",
      "metadata": {
        "id": "eFsp61dpTBOZ"
      },
      "source": [
        "Exemplo: a altura de uma pessoa em metros"
      ]
    },
    {
      "cell_type": "code",
      "execution_count": null,
      "metadata": {
        "id": "3T3WyGZjTBOa"
      },
      "outputs": [],
      "source": [
        "altura = 1.78"
      ]
    },
    {
      "cell_type": "code",
      "source": [
        "altura"
      ],
      "metadata": {
        "colab": {
          "base_uri": "https://localhost:8080/"
        },
        "id": "iEKEvyeSVABX",
        "outputId": "ac5bb27e-705d-4ca1-a175-b2cb29a052ca"
      },
      "execution_count": null,
      "outputs": [
        {
          "output_type": "execute_result",
          "data": {
            "text/plain": [
              "1.78"
            ]
          },
          "metadata": {},
          "execution_count": 5
        }
      ]
    },
    {
      "cell_type": "code",
      "source": [
        "type(altura)"
      ],
      "metadata": {
        "colab": {
          "base_uri": "https://localhost:8080/"
        },
        "id": "RUn6OMfWVBCL",
        "outputId": "e81dc02a-b1de-4013-82d3-31ab21648fc8"
      },
      "execution_count": null,
      "outputs": [
        {
          "output_type": "execute_result",
          "data": {
            "text/plain": [
              "float"
            ]
          },
          "metadata": {},
          "execution_count": 6
        }
      ]
    },
    {
      "cell_type": "code",
      "source": [
        "type(10)"
      ],
      "metadata": {
        "colab": {
          "base_uri": "https://localhost:8080/"
        },
        "id": "vdk-xTIaVDNH",
        "outputId": "4c4a1495-ad36-424c-b04c-0c83b0a1b2fb"
      },
      "execution_count": null,
      "outputs": [
        {
          "output_type": "execute_result",
          "data": {
            "text/plain": [
              "int"
            ]
          },
          "metadata": {},
          "execution_count": 7
        }
      ]
    },
    {
      "cell_type": "code",
      "source": [
        "type(10.0)"
      ],
      "metadata": {
        "colab": {
          "base_uri": "https://localhost:8080/"
        },
        "id": "n5oGcElfVFfE",
        "outputId": "14e361c5-28f5-4452-a82e-e8ace9cff312"
      },
      "execution_count": null,
      "outputs": [
        {
          "output_type": "execute_result",
          "data": {
            "text/plain": [
              "float"
            ]
          },
          "metadata": {},
          "execution_count": 8
        }
      ]
    },
    {
      "cell_type": "markdown",
      "metadata": {
        "id": "IvLmxB4oTBOa"
      },
      "source": [
        "~ Tipo **string** (str): são textos, que devem ser indicados entre aspas duplas \" \" ou aspas simples ' '\n",
        "\n",
        "- Ex:\n",
        "    - \"Olá, mundo!\" (para strings, podemos usar pontuação e acentuação sem problemas!)\n",
        "    - \"Nos encontramos às 9h30 amanhã?\" (strings podem conter numeros!)\n",
        "    - \"100\" (neste caso, é uma string que representa um numero inteiro)\n",
        "    - \"3.1415\" (neste caso, é uma string que representa um numero float)\n",
        "\n",
        "No Jupyter, strings são destacadas em cor vermelha"
      ]
    },
    {
      "cell_type": "markdown",
      "metadata": {
        "id": "5zyY5C26TBOc"
      },
      "source": [
        "Exemplo: uma frase de despedida e um encontro marcado"
      ]
    },
    {
      "cell_type": "code",
      "execution_count": null,
      "metadata": {
        "id": "uVWG8HkBTBOc"
      },
      "outputs": [],
      "source": [
        "nome = \"André\"\n",
        "\n",
        "trabalho = 'Ada'"
      ]
    },
    {
      "cell_type": "code",
      "source": [
        "print(nome, trabalho)"
      ],
      "metadata": {
        "colab": {
          "base_uri": "https://localhost:8080/"
        },
        "id": "_6l1naCtV46r",
        "outputId": "ff0714a0-ab28-4848-97a4-cba353be2b2d"
      },
      "execution_count": null,
      "outputs": [
        {
          "output_type": "stream",
          "name": "stdout",
          "text": [
            "André Ada\n"
          ]
        }
      ]
    },
    {
      "cell_type": "code",
      "source": [
        "trecho_de_livro = 'E aí Joãozinho disse: \"Oi, tudo bem?\"'\n",
        "\n",
        "print(trecho_de_livro)"
      ],
      "metadata": {
        "colab": {
          "base_uri": "https://localhost:8080/"
        },
        "id": "S5yu19DhWAOo",
        "outputId": "bbf2ce99-759a-42da-9e81-9e6a6de490c6"
      },
      "execution_count": null,
      "outputs": [
        {
          "output_type": "stream",
          "name": "stdout",
          "text": [
            "E aí Joãozinho disse: \"Oi, tudo bem?\"\n"
          ]
        }
      ]
    },
    {
      "cell_type": "code",
      "source": [
        "nome_comunidade = \"Comunidade Let's Code\"\n",
        "\n",
        "print(nome_comunidade)"
      ],
      "metadata": {
        "colab": {
          "base_uri": "https://localhost:8080/"
        },
        "id": "T42hGfvQWYFG",
        "outputId": "2a4739c0-cc1b-4494-da1a-67ec04d12310"
      },
      "execution_count": null,
      "outputs": [
        {
          "output_type": "stream",
          "name": "stdout",
          "text": [
            "Comunidade Let's Code\n"
          ]
        }
      ]
    },
    {
      "cell_type": "code",
      "source": [
        "type(nome_comunidade)"
      ],
      "metadata": {
        "colab": {
          "base_uri": "https://localhost:8080/"
        },
        "id": "tcx1tRf6cxNC",
        "outputId": "82b09257-a171-4d4e-8cff-c19730eb4c80"
      },
      "execution_count": null,
      "outputs": [
        {
          "output_type": "execute_result",
          "data": {
            "text/plain": [
              "str"
            ]
          },
          "metadata": {},
          "execution_count": 14
        }
      ]
    },
    {
      "cell_type": "markdown",
      "metadata": {
        "id": "u69Pm-NWTBOd"
      },
      "source": [
        "~ Tipo **booleanos** (bool): Verdadeiro (True) ou Falso (False)\n",
        "\n",
        "- Únicos dois valores possíveis: **True** ou **False**\n",
        "\n",
        "Vamos entender a enorme importância deste tipo de dado mais a frente no curso (operações lógicas, estruturas condicionais, etc.)\n",
        "\n",
        "No Jupyter, bools são destacados em cor verde escuro"
      ]
    },
    {
      "cell_type": "code",
      "execution_count": null,
      "metadata": {
        "colab": {
          "base_uri": "https://localhost:8080/"
        },
        "id": "AfvPZ43ITBOe",
        "outputId": "06c889b1-f766-4504-a96e-f74fe205fe30"
      },
      "outputs": [
        {
          "output_type": "execute_result",
          "data": {
            "text/plain": [
              "True"
            ]
          },
          "metadata": {},
          "execution_count": 15
        }
      ],
      "source": [
        "True"
      ]
    },
    {
      "cell_type": "code",
      "source": [
        "False"
      ],
      "metadata": {
        "colab": {
          "base_uri": "https://localhost:8080/"
        },
        "id": "Jsbmg7zDXBRT",
        "outputId": "fdb50215-36af-4332-91b6-d7470832c3ce"
      },
      "execution_count": null,
      "outputs": [
        {
          "output_type": "execute_result",
          "data": {
            "text/plain": [
              "False"
            ]
          },
          "metadata": {},
          "execution_count": 16
        }
      ]
    },
    {
      "cell_type": "code",
      "source": [
        "podeVotar = True\n",
        "type(podeVotar)"
      ],
      "metadata": {
        "colab": {
          "base_uri": "https://localhost:8080/"
        },
        "id": "5hC0gX7-dfrr",
        "outputId": "fb519f3d-9164-43c3-e60a-b44a1c747c61"
      },
      "execution_count": null,
      "outputs": [
        {
          "output_type": "execute_result",
          "data": {
            "text/plain": [
              "bool"
            ]
          },
          "metadata": {},
          "execution_count": 17
        }
      ]
    },
    {
      "cell_type": "markdown",
      "metadata": {
        "id": "GD4G-BZsTBOe"
      },
      "source": [
        "____"
      ]
    },
    {
      "cell_type": "markdown",
      "metadata": {
        "id": "SHOj80WTTBOe"
      },
      "source": [
        "## 2) Comentários\n",
        "\n",
        "São utilizados para melhor explicar um trecho de código.\n",
        "\n",
        "Os comentários não são executados pelo Python.\n",
        "\n",
        "Tudo o que está comentado é ignorado, serve apenas para guiar o usuário.\n",
        "\n",
        "É indicado com o uso da #, e em cor azul marinho no Jupyter\n",
        "\n",
        "- Atalho: CTRL + / : A LINHA VIRA UM COMENTÁRIO"
      ]
    },
    {
      "cell_type": "code",
      "execution_count": null,
      "metadata": {
        "id": "-H7qRqT6TBOf"
      },
      "outputs": [],
      "source": [
        "# Aqui abaixo estou definindo uma variavel que recebe o valor de altura 1,62\n",
        "altura = 1.62"
      ]
    },
    {
      "cell_type": "markdown",
      "metadata": {
        "id": "mT24udSuTBOf"
      },
      "source": [
        "Embora você possa fazer comentários de várias linhas apenas colocando o # na frente de cada linha:"
      ]
    },
    {
      "cell_type": "code",
      "execution_count": null,
      "metadata": {
        "ExecuteTime": {
          "end_time": "2023-01-10T10:17:20.745403Z",
          "start_time": "2023-01-10T10:17:20.732411Z"
        },
        "id": "HGWgmhkCTBOf"
      },
      "outputs": [],
      "source": [
        "# Esse é um comentário muito grande, e por isso pode ser interessante quebrar\n",
        "# Ele em várias linhas, para ficar mais fácil de ler um comentário grande\n",
        "# E complexo como esse no meio do código"
      ]
    },
    {
      "cell_type": "markdown",
      "metadata": {
        "id": "r3w9gUnCTBOg"
      },
      "source": [
        "Também é possível fazer comentários de várias linhas utilizando três aspas:"
      ]
    },
    {
      "cell_type": "code",
      "execution_count": null,
      "metadata": {
        "ExecuteTime": {
          "end_time": "2023-01-10T10:17:20.907725Z",
          "start_time": "2023-01-10T10:17:20.748211Z"
        },
        "id": "R2Iq0Nl-TBOg"
      },
      "outputs": [],
      "source": [
        "string_3_aspas = \"\"\"Esse é um comentário muito grande, e por isso pode ser interessante\n",
        "quebrar ele em várias linhas, para ficar mais fácil de ler\n",
        "um comentário grande e complexo como esse no meio do código\"\"\""
      ]
    },
    {
      "cell_type": "code",
      "source": [
        "print(string_3_aspas)"
      ],
      "metadata": {
        "colab": {
          "base_uri": "https://localhost:8080/"
        },
        "id": "K5dUQVQ_ZAot",
        "outputId": "ad16c880-fbd8-411a-e84a-6e442362e462"
      },
      "execution_count": null,
      "outputs": [
        {
          "output_type": "stream",
          "name": "stdout",
          "text": [
            "Esse é um comentário muito grande, e por isso pode ser interessante\n",
            "quebrar ele em várias linhas, para ficar mais fácil de ler\n",
            "um comentário grande e complexo como esse no meio do código\n"
          ]
        }
      ]
    },
    {
      "cell_type": "code",
      "source": [
        "'''aqui abaixo estou definindo uma\n",
        "variavel que recebe o valor de altura 1,62'''\n",
        "altura = 1.62"
      ],
      "metadata": {
        "id": "Qbc2j0dPZLzV"
      },
      "execution_count": null,
      "outputs": []
    },
    {
      "cell_type": "markdown",
      "metadata": {
        "id": "_DTMMjFkTBOh"
      },
      "source": [
        "Note que estes \"comentários\" feitos com 3 aspas na verdade são strings de muitas linhas: mas o Python irá ignorá-las caso elas não sejá atribuídas a uma variável, funcionando, assim, como comentário.\n",
        "\n",
        "Um outro uso importante deste tipo de strings é na definição de [docstrings](https://pythonhelp.wordpress.com/2011/02/14/docstrings/), strings que documentam funções e classes em Python.\n",
        "\n",
        "**De qualquer forma, o primeiro modo, com um # em cada linha, é preferível!**"
      ]
    },
    {
      "cell_type": "markdown",
      "metadata": {
        "id": "WGzkRNAcTBOh"
      },
      "source": [
        "____"
      ]
    },
    {
      "cell_type": "markdown",
      "metadata": {
        "id": "7jY8E-WwTBOh"
      },
      "source": [
        "## 3) Saída (output)\n",
        "\n",
        "É como o computador **apresenta dados de saída** para um usuário.\n",
        "\n",
        "Utilizamos a função print() para exibir o conteúdo na tela"
      ]
    },
    {
      "cell_type": "code",
      "source": [
        "print(\"Olá, mundo!\")"
      ],
      "metadata": {
        "colab": {
          "base_uri": "https://localhost:8080/"
        },
        "id": "cEvlYTRxZ4eg",
        "outputId": "9f051522-71bc-4959-a7cb-bc9c3b250a0c"
      },
      "execution_count": null,
      "outputs": [
        {
          "output_type": "stream",
          "name": "stdout",
          "text": [
            "Olá, mundo!\n"
          ]
        }
      ]
    },
    {
      "cell_type": "code",
      "execution_count": null,
      "metadata": {
        "colab": {
          "base_uri": "https://localhost:8080/"
        },
        "id": "DDaLFSbaTBOi",
        "outputId": "5d3aa781-d19b-44d6-855b-6d204ded676f"
      },
      "outputs": [
        {
          "output_type": "stream",
          "name": "stdout",
          "text": [
            "Olá, André!\n"
          ]
        }
      ],
      "source": [
        "cumprimeto = \"Olá, André!\"\n",
        "\n",
        "print(cumprimeto)"
      ]
    },
    {
      "cell_type": "markdown",
      "metadata": {
        "id": "MhhwXet4TBOi"
      },
      "source": [
        "Podemos imprimir diversas strings ou diversas variáveis em sequência, utilizando vírgula para separá-las dentro do print:"
      ]
    },
    {
      "cell_type": "code",
      "execution_count": null,
      "metadata": {
        "colab": {
          "base_uri": "https://localhost:8080/"
        },
        "id": "sqTY6zvATBOi",
        "outputId": "57210c6a-729b-4ad8-f13b-4baf9d766d48"
      },
      "outputs": [
        {
          "output_type": "stream",
          "name": "stdout",
          "text": [
            "50 cinquenta OIEEE\n"
          ]
        }
      ],
      "source": [
        "numero = 50\n",
        "nome_do_numero = \"cinquenta\"\n",
        "\n",
        "print(numero, nome_do_numero, \"OIEEE\")"
      ]
    },
    {
      "cell_type": "code",
      "source": [
        "print(numero, nome_do_numero, \"OIEEE\", sep=\"__\")"
      ],
      "metadata": {
        "colab": {
          "base_uri": "https://localhost:8080/"
        },
        "id": "s9SMZ3YTabM5",
        "outputId": "7b64af4d-42b2-4626-c4e1-1d8e694c72d3"
      },
      "execution_count": null,
      "outputs": [
        {
          "output_type": "stream",
          "name": "stdout",
          "text": [
            "50__cinquenta__OIEEE\n"
          ]
        }
      ]
    },
    {
      "cell_type": "markdown",
      "metadata": {
        "id": "5xjUZM9FTBOi"
      },
      "source": [
        "Um caractere especial do print é o \"\\n\", que serve para fazer a quebra de linha:"
      ]
    },
    {
      "cell_type": "code",
      "execution_count": null,
      "metadata": {
        "colab": {
          "base_uri": "https://localhost:8080/"
        },
        "id": "7BHmCzImTBOj",
        "outputId": "09dd4bc1-fcf3-4c93-8b11-1f2f4263b771"
      },
      "outputs": [
        {
          "output_type": "stream",
          "name": "stdout",
          "text": [
            "50\n",
            "cinquenta\n",
            "OIEEE\n"
          ]
        }
      ],
      "source": [
        "print(numero, nome_do_numero, \"OIEEE\", sep=\"\\n\")"
      ]
    },
    {
      "cell_type": "code",
      "source": [
        "print(\"Olá\\nmundo!\")"
      ],
      "metadata": {
        "colab": {
          "base_uri": "https://localhost:8080/"
        },
        "id": "3FYq5uf0a_-P",
        "outputId": "0a74061c-793b-47f5-c964-0796b4d3cacb"
      },
      "execution_count": null,
      "outputs": [
        {
          "output_type": "stream",
          "name": "stdout",
          "text": [
            "Olá\n",
            "mundo!\n"
          ]
        }
      ]
    },
    {
      "cell_type": "markdown",
      "metadata": {
        "id": "9u53mh6sTBOj"
      },
      "source": [
        "____"
      ]
    },
    {
      "cell_type": "markdown",
      "metadata": {
        "id": "0RcynfJfTBOj"
      },
      "source": [
        "## 4) Entrada (input)\n",
        "\n",
        "É como o computador **coleta dados de entrada** de um usuário através do teclado.\n",
        "\n",
        "Utilizamos a função input() para receber os dados do usuário, que deve digitá-los\n",
        "\n",
        "Opcionalmente, podemos colocar uma frase de instrução ao usuário na função input, dentro dos parênteses"
      ]
    },
    {
      "cell_type": "code",
      "execution_count": null,
      "metadata": {
        "colab": {
          "base_uri": "https://localhost:8080/"
        },
        "id": "kdOvZVghTBOk",
        "outputId": "5876d8a8-df07-4d8c-db44-537c16a2b280"
      },
      "outputs": [
        {
          "output_type": "stream",
          "name": "stdout",
          "text": [
            "Ada\n",
            "O usuário digitou: Ada\n"
          ]
        }
      ],
      "source": [
        "resultado = input()\n",
        "\n",
        "print(\"O usuário digitou:\", resultado)"
      ]
    },
    {
      "cell_type": "code",
      "source": [
        "nome = input(\"Digite seu nome: \")\n",
        "\n",
        "print(\"Bom dia,\", nome)"
      ],
      "metadata": {
        "colab": {
          "base_uri": "https://localhost:8080/"
        },
        "id": "ZXI2AOynb1TQ",
        "outputId": "01bd9a5c-7b38-43eb-a0e6-0661d30e56b8"
      },
      "execution_count": null,
      "outputs": [
        {
          "output_type": "stream",
          "name": "stdout",
          "text": [
            "Digite seu nome: Matheus\n",
            "Bom dia, Matheus\n"
          ]
        }
      ]
    },
    {
      "cell_type": "markdown",
      "metadata": {
        "id": "EZb5pSrRTBOk"
      },
      "source": [
        "__IMPORTANTE: a função input() toma o que o usuário digitou como uma string! Se o usuário digitar algum número, e algum cálculo for feito com esse número, o número deve ser transformado em int ou float!__\n",
        "\n",
        "A melhor forma de fazer isso, é já transformar o resultado da função input em float.\n",
        "\n",
        "Fazemos isso com uma espécie de sanduíche, colocando a função input() dentro da função float(), que transforma uma string em um float!\n",
        "\n",
        "> A mudança de tipos de dados é conhecida como **coerção** ou **conversão** de tipos.\n",
        "\n",
        "OBS: é melhor transformar o input em float ao invés de int, pois o float é um tipo numérico mais genérico, apesar de ocupar (um pouco) mais memória."
      ]
    },
    {
      "cell_type": "code",
      "execution_count": null,
      "metadata": {
        "colab": {
          "base_uri": "https://localhost:8080/"
        },
        "id": "_f9Kj07cTBOk",
        "outputId": "d8917c23-5e9d-44bd-ca8e-e688ffc7c3e9"
      },
      "outputs": [
        {
          "name": "stdout",
          "output_type": "stream",
          "text": [
            "Digite sua idade: 29\n"
          ]
        },
        {
          "output_type": "execute_result",
          "data": {
            "text/plain": [
              "str"
            ]
          },
          "metadata": {},
          "execution_count": 32
        }
      ],
      "source": [
        "idade = input(\"Digite sua idade: \")\n",
        "\n",
        "type(idade)"
      ]
    },
    {
      "cell_type": "code",
      "source": [
        "idade"
      ],
      "metadata": {
        "colab": {
          "base_uri": "https://localhost:8080/",
          "height": 35
        },
        "id": "BLz9Uzi_dHyS",
        "outputId": "2b6f4a29-28a5-4865-c29d-fe0ce1dca03c"
      },
      "execution_count": null,
      "outputs": [
        {
          "output_type": "execute_result",
          "data": {
            "text/plain": [
              "'29'"
            ],
            "application/vnd.google.colaboratory.intrinsic+json": {
              "type": "string"
            }
          },
          "metadata": {},
          "execution_count": 33
        }
      ]
    },
    {
      "cell_type": "code",
      "source": [
        "idade_int = int(idade)\n",
        "\n",
        "type(idade_int)"
      ],
      "metadata": {
        "colab": {
          "base_uri": "https://localhost:8080/"
        },
        "id": "1lwoC_rLdClD",
        "outputId": "1e07acb7-554e-459c-ec29-07e13ff887d8"
      },
      "execution_count": null,
      "outputs": [
        {
          "output_type": "execute_result",
          "data": {
            "text/plain": [
              "int"
            ]
          },
          "metadata": {},
          "execution_count": 34
        }
      ]
    },
    {
      "cell_type": "code",
      "source": [
        "idade_int + 5"
      ],
      "metadata": {
        "colab": {
          "base_uri": "https://localhost:8080/"
        },
        "id": "yFzezXoNdV7b",
        "outputId": "ea8fd58b-55d4-4342-d498-95afeb121030"
      },
      "execution_count": null,
      "outputs": [
        {
          "output_type": "execute_result",
          "data": {
            "text/plain": [
              "34"
            ]
          },
          "metadata": {},
          "execution_count": 35
        }
      ]
    },
    {
      "cell_type": "code",
      "source": [
        "idade = int(input(\"Digite sua idade: \"))\n",
        "\n",
        "type(idade)"
      ],
      "metadata": {
        "colab": {
          "base_uri": "https://localhost:8080/"
        },
        "id": "a03LfKyYdblg",
        "outputId": "68fc7421-27e7-4105-c5d6-fa4ea20869bc"
      },
      "execution_count": null,
      "outputs": [
        {
          "name": "stdout",
          "output_type": "stream",
          "text": [
            "Digite sua idade: 29\n"
          ]
        },
        {
          "output_type": "execute_result",
          "data": {
            "text/plain": [
              "int"
            ]
          },
          "metadata": {},
          "execution_count": 36
        }
      ]
    },
    {
      "cell_type": "code",
      "source": [
        "altura = float(input(\"Digite sua altura: \"))\n",
        "\n",
        "type(altura)"
      ],
      "metadata": {
        "colab": {
          "base_uri": "https://localhost:8080/"
        },
        "id": "AKqqdjpjdrcr",
        "outputId": "0b84e0da-f15f-409d-b021-e2d7d8165bca"
      },
      "execution_count": null,
      "outputs": [
        {
          "name": "stdout",
          "output_type": "stream",
          "text": [
            "Digite sua altura: 1.66\n"
          ]
        },
        {
          "output_type": "execute_result",
          "data": {
            "text/plain": [
              "float"
            ]
          },
          "metadata": {},
          "execution_count": 37
        }
      ]
    },
    {
      "cell_type": "markdown",
      "metadata": {
        "id": "-v2g0gJlTBOk"
      },
      "source": [
        "____"
      ]
    },
    {
      "cell_type": "markdown",
      "metadata": {
        "id": "UTVKdIJpTBOl"
      },
      "source": [
        "## 5) Operadores Matemáticos\n",
        "\n",
        "Em Python, temos as principais operações matemáticas, com os respectivos símbolos:\n",
        "\n",
        "- soma: (+)\n",
        "\n",
        "- subtração: (-)\n",
        "\n",
        "- multiplicação: (*)\n",
        "\n",
        "- divisão: (/)\n",
        "\n",
        "- potência: (\\*\\*)"
      ]
    },
    {
      "cell_type": "code",
      "execution_count": null,
      "metadata": {
        "colab": {
          "base_uri": "https://localhost:8080/"
        },
        "id": "dpIWm__ATBOl",
        "outputId": "970603bb-963d-4c75-b487-a520a3541c6d"
      },
      "outputs": [
        {
          "output_type": "execute_result",
          "data": {
            "text/plain": [
              "4"
            ]
          },
          "metadata": {},
          "execution_count": 38
        }
      ],
      "source": [
        "2+2"
      ]
    },
    {
      "cell_type": "code",
      "source": [
        "2.45245356 + 42"
      ],
      "metadata": {
        "colab": {
          "base_uri": "https://localhost:8080/"
        },
        "id": "5nkZN8T_em3H",
        "outputId": "25d4d75d-05b5-4109-d46e-c9325da7a854"
      },
      "execution_count": null,
      "outputs": [
        {
          "output_type": "execute_result",
          "data": {
            "text/plain": [
              "44.45245356"
            ]
          },
          "metadata": {},
          "execution_count": 39
        }
      ]
    },
    {
      "cell_type": "code",
      "source": [
        "4*3"
      ],
      "metadata": {
        "colab": {
          "base_uri": "https://localhost:8080/"
        },
        "id": "PNUd6MFFeppt",
        "outputId": "b7db7afc-2031-47e4-c016-4c56ceb62d48"
      },
      "execution_count": null,
      "outputs": [
        {
          "output_type": "execute_result",
          "data": {
            "text/plain": [
              "12"
            ]
          },
          "metadata": {},
          "execution_count": 40
        }
      ]
    },
    {
      "cell_type": "code",
      "source": [
        "10/7"
      ],
      "metadata": {
        "colab": {
          "base_uri": "https://localhost:8080/"
        },
        "id": "p_ILP2MlexyR",
        "outputId": "b7474d50-0538-4056-ab33-1c8d03542ce3"
      },
      "execution_count": null,
      "outputs": [
        {
          "output_type": "execute_result",
          "data": {
            "text/plain": [
              "1.4285714285714286"
            ]
          },
          "metadata": {},
          "execution_count": 41
        }
      ]
    },
    {
      "cell_type": "code",
      "source": [
        "2**2"
      ],
      "metadata": {
        "colab": {
          "base_uri": "https://localhost:8080/"
        },
        "id": "H8jXmSS5e1Bd",
        "outputId": "4d5b2596-106e-4031-cf69-97ae680300ed"
      },
      "execution_count": null,
      "outputs": [
        {
          "output_type": "execute_result",
          "data": {
            "text/plain": [
              "4"
            ]
          },
          "metadata": {},
          "execution_count": 42
        }
      ]
    },
    {
      "cell_type": "code",
      "source": [
        "5**2"
      ],
      "metadata": {
        "colab": {
          "base_uri": "https://localhost:8080/"
        },
        "id": "DZbWo1xue2qH",
        "outputId": "1ba9c511-7430-49b0-8f5d-1b9a73a95ca1"
      },
      "execution_count": null,
      "outputs": [
        {
          "output_type": "execute_result",
          "data": {
            "text/plain": [
              "25"
            ]
          },
          "metadata": {},
          "execution_count": 43
        }
      ]
    },
    {
      "cell_type": "code",
      "source": [
        "25**(0.5)"
      ],
      "metadata": {
        "colab": {
          "base_uri": "https://localhost:8080/"
        },
        "id": "GniGQYVHe4Mm",
        "outputId": "354e90b5-25ff-4ea4-d13a-38f6c114060c"
      },
      "execution_count": null,
      "outputs": [
        {
          "output_type": "execute_result",
          "data": {
            "text/plain": [
              "5.0"
            ]
          },
          "metadata": {},
          "execution_count": 44
        }
      ]
    },
    {
      "cell_type": "code",
      "source": [
        "2/0"
      ],
      "metadata": {
        "colab": {
          "base_uri": "https://localhost:8080/",
          "height": 141
        },
        "id": "7XcP3fIWe8Ol",
        "outputId": "521ba8bf-d95f-488b-acd7-cdd88c87170e"
      },
      "execution_count": null,
      "outputs": [
        {
          "output_type": "error",
          "ename": "ZeroDivisionError",
          "evalue": "division by zero",
          "traceback": [
            "\u001b[0;31m---------------------------------------------------------------------------\u001b[0m",
            "\u001b[0;31mZeroDivisionError\u001b[0m                         Traceback (most recent call last)",
            "\u001b[0;32m<ipython-input-45-e8326a161779>\u001b[0m in \u001b[0;36m<cell line: 1>\u001b[0;34m()\u001b[0m\n\u001b[0;32m----> 1\u001b[0;31m \u001b[0;36m2\u001b[0m\u001b[0;34m/\u001b[0m\u001b[0;36m0\u001b[0m\u001b[0;34m\u001b[0m\u001b[0;34m\u001b[0m\u001b[0m\n\u001b[0m",
            "\u001b[0;31mZeroDivisionError\u001b[0m: division by zero"
          ]
        }
      ]
    },
    {
      "cell_type": "markdown",
      "metadata": {
        "id": "h2Z5MAFpTBOl"
      },
      "source": [
        "Além disso, temos duas operações especiais:\n",
        "\n",
        "- divisão inteira: (//) retorna a parte inteira da divisão entre dois números\n",
        "\n",
        "- resto da divisão: (%) se lê \"mod\", e retorna o resto da divisão entre dois números"
      ]
    },
    {
      "cell_type": "code",
      "execution_count": null,
      "metadata": {
        "colab": {
          "base_uri": "https://localhost:8080/"
        },
        "id": "4ql_aig0TBOm",
        "outputId": "3b320360-9f2d-4751-b4f7-30f4b15ec4d4"
      },
      "outputs": [
        {
          "output_type": "execute_result",
          "data": {
            "text/plain": [
              "1.4285714285714286"
            ]
          },
          "metadata": {},
          "execution_count": 46
        }
      ],
      "source": [
        "10/7"
      ]
    },
    {
      "cell_type": "code",
      "source": [
        "10//7"
      ],
      "metadata": {
        "colab": {
          "base_uri": "https://localhost:8080/"
        },
        "id": "Zi3xPsO2fQ_r",
        "outputId": "1d5f40ce-0eef-4dcf-a7bb-b6537c2487c9"
      },
      "execution_count": null,
      "outputs": [
        {
          "output_type": "execute_result",
          "data": {
            "text/plain": [
              "1"
            ]
          },
          "metadata": {},
          "execution_count": 47
        }
      ]
    },
    {
      "cell_type": "markdown",
      "source": [
        "10 = 7*1 + 3"
      ],
      "metadata": {
        "id": "PKZaU4uofqxf"
      }
    },
    {
      "cell_type": "code",
      "source": [
        "10 % 7"
      ],
      "metadata": {
        "colab": {
          "base_uri": "https://localhost:8080/"
        },
        "id": "KGFdIlpjfx-1",
        "outputId": "872888d6-4afe-4417-d641-a691901840bf"
      },
      "execution_count": null,
      "outputs": [
        {
          "output_type": "execute_result",
          "data": {
            "text/plain": [
              "3"
            ]
          },
          "metadata": {},
          "execution_count": 48
        }
      ]
    },
    {
      "cell_type": "code",
      "source": [
        "8/9"
      ],
      "metadata": {
        "colab": {
          "base_uri": "https://localhost:8080/"
        },
        "id": "gOGcQp3QfUK_",
        "outputId": "b70aef79-e0d4-48b1-8015-25c06adce3a5"
      },
      "execution_count": null,
      "outputs": [
        {
          "output_type": "execute_result",
          "data": {
            "text/plain": [
              "0.8888888888888888"
            ]
          },
          "metadata": {},
          "execution_count": 49
        }
      ]
    },
    {
      "cell_type": "code",
      "source": [
        "8//9"
      ],
      "metadata": {
        "colab": {
          "base_uri": "https://localhost:8080/"
        },
        "id": "Sq581KQ5fWJ4",
        "outputId": "f4a5da78-a36e-4154-f9fc-b1b4bbe91f81"
      },
      "execution_count": null,
      "outputs": [
        {
          "output_type": "execute_result",
          "data": {
            "text/plain": [
              "0"
            ]
          },
          "metadata": {},
          "execution_count": 50
        }
      ]
    },
    {
      "cell_type": "code",
      "source": [
        "8 % 9"
      ],
      "metadata": {
        "colab": {
          "base_uri": "https://localhost:8080/"
        },
        "id": "bboH8Nryf5kW",
        "outputId": "405269a1-9598-457e-cf05-90457ae45e55"
      },
      "execution_count": null,
      "outputs": [
        {
          "output_type": "execute_result",
          "data": {
            "text/plain": [
              "8"
            ]
          },
          "metadata": {},
          "execution_count": 51
        }
      ]
    },
    {
      "cell_type": "markdown",
      "source": [
        "8 = 9*0 + 8"
      ],
      "metadata": {
        "id": "2A8UjrL-f8MJ"
      }
    },
    {
      "cell_type": "markdown",
      "metadata": {
        "id": "xzrrUu4pTBOm"
      },
      "source": [
        "OBS: o principal uso do operador resto da divisão (%) é para avaliar se um número é par ou impar:\n",
        "\n",
        "- se o resto da divisão de um número por 2 **É ZERO**, ele é par;\n",
        "- se o resto da divisão de um número por 2 **É UM**, ele é ímpar;\n"
      ]
    },
    {
      "cell_type": "code",
      "source": [
        "# Esse numero é par\n",
        "2393453452 % 2"
      ],
      "metadata": {
        "colab": {
          "base_uri": "https://localhost:8080/"
        },
        "id": "4dnf59aAgFI4",
        "outputId": "783e619d-241d-4c18-e78c-1fee33d8562d"
      },
      "execution_count": null,
      "outputs": [
        {
          "output_type": "execute_result",
          "data": {
            "text/plain": [
              "0"
            ]
          },
          "metadata": {},
          "execution_count": 52
        }
      ]
    },
    {
      "cell_type": "code",
      "source": [
        "# Esse numero é impar\n",
        "23934534521 % 2"
      ],
      "metadata": {
        "colab": {
          "base_uri": "https://localhost:8080/"
        },
        "id": "MuvSVJGrgOVC",
        "outputId": "902bd23e-83a3-4be3-d32b-4646799b7cb6"
      },
      "execution_count": null,
      "outputs": [
        {
          "output_type": "execute_result",
          "data": {
            "text/plain": [
              "1"
            ]
          },
          "metadata": {},
          "execution_count": 53
        }
      ]
    },
    {
      "cell_type": "code",
      "source": [
        "\"a\" + \"b\""
      ],
      "metadata": {
        "colab": {
          "base_uri": "https://localhost:8080/",
          "height": 35
        },
        "id": "FOrew7Y8gmDM",
        "outputId": "fc44c6b8-951e-4897-8b3c-958fc3933d79"
      },
      "execution_count": null,
      "outputs": [
        {
          "output_type": "execute_result",
          "data": {
            "text/plain": [
              "'ab'"
            ],
            "application/vnd.google.colaboratory.intrinsic+json": {
              "type": "string"
            }
          },
          "metadata": {},
          "execution_count": 54
        }
      ]
    },
    {
      "cell_type": "code",
      "source": [
        "\"let's\" + \" \" + \"code\""
      ],
      "metadata": {
        "colab": {
          "base_uri": "https://localhost:8080/",
          "height": 35
        },
        "id": "dv50U5uXgrKm",
        "outputId": "5a4bd27f-f821-4480-d1c2-628729d305c4"
      },
      "execution_count": null,
      "outputs": [
        {
          "output_type": "execute_result",
          "data": {
            "text/plain": [
              "\"let's code\""
            ],
            "application/vnd.google.colaboratory.intrinsic+json": {
              "type": "string"
            }
          },
          "metadata": {},
          "execution_count": 55
        }
      ]
    },
    {
      "cell_type": "code",
      "source": [
        "\"a\"*4"
      ],
      "metadata": {
        "colab": {
          "base_uri": "https://localhost:8080/",
          "height": 35
        },
        "id": "ri46awN7gyAS",
        "outputId": "6b66b2c5-5791-46cc-8603-be173765d211"
      },
      "execution_count": null,
      "outputs": [
        {
          "output_type": "execute_result",
          "data": {
            "text/plain": [
              "'aaaa'"
            ],
            "application/vnd.google.colaboratory.intrinsic+json": {
              "type": "string"
            }
          },
          "metadata": {},
          "execution_count": 56
        }
      ]
    },
    {
      "cell_type": "code",
      "source": [],
      "metadata": {
        "id": "tPvfDGi4k3gf"
      },
      "execution_count": null,
      "outputs": []
    }
  ],
  "metadata": {
    "kernelspec": {
      "display_name": "Python 3",
      "language": "python",
      "name": "python3"
    },
    "language_info": {
      "codemirror_mode": {
        "name": "ipython",
        "version": 3
      },
      "file_extension": ".py",
      "mimetype": "text/x-python",
      "name": "python",
      "nbconvert_exporter": "python",
      "pygments_lexer": "ipython3",
      "version": "3.8.3"
    },
    "colab": {
      "provenance": [],
      "include_colab_link": true
    }
  },
  "nbformat": 4,
  "nbformat_minor": 0
}