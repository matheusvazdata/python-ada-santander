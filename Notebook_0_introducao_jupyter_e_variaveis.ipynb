{
  "cells": [
    {
      "cell_type": "markdown",
      "metadata": {
        "id": "view-in-github",
        "colab_type": "text"
      },
      "source": [
        "<a href=\"https://colab.research.google.com/github/matheusvazdata/python-ada-santander/blob/main/Notebook_0_introducao_jupyter_e_variaveis.ipynb\" target=\"_parent\"><img src=\"https://colab.research.google.com/assets/colab-badge.svg\" alt=\"Open In Colab\"/></a>"
      ]
    },
    {
      "cell_type": "markdown",
      "metadata": {
        "id": "FKtylITNW2vH"
      },
      "source": [
        "# Aula 0 - Introdução, Jupyter e variáveis\n",
        "\n",
        "Na aula de hoje, vamos explorar os seguintes tópicos em Python:\n",
        "\n",
        "- 1) Introdução: Jupyter;\n",
        "- 2) Primeiro programa em Python;\n",
        "- 3) Variáveis.\n",
        "_____________\n",
        "\n",
        "### Problema gerador: como exibir na tela um cumprimento personalizado com um dado nome?\n",
        "\n",
        "Exemplo: \"Olá, Matheus! Tudo bem?\""
      ]
    },
    {
      "cell_type": "markdown",
      "metadata": {
        "id": "alDRdIxMW2vK"
      },
      "source": [
        "_________"
      ]
    },
    {
      "cell_type": "markdown",
      "metadata": {
        "id": "ySM48Zb8W2vL"
      },
      "source": [
        "## 1) Introdução: Jupyter Notebook\n",
        "\n",
        "### Instalação do Anaconda:\n",
        "\n",
        "O anaconda é uma distribuição das linguagens Python e R para a computação científica, sendo amplamente utilizada no mundo de Data Science (mas não se restringindo apenas a isso). Para instalá-la, baixe a versão mais recente na [página de downloads](https://www.anaconda.com/distribution/) do site. Essa distribuição já contém grande parte dos módulos (bibliotecas) Python que usaremos em aula.\n",
        "\n",
        "O curso também pode ser seguido instalando cada biblioteca manualmente com o `pip`.\n",
        "\n",
        "### Jupyter\n",
        "\n",
        "Você pode encontrar uma introdução ao Jupyter Notebook [aqui](https://medium.com/@pedrofullstack/introdu%C3%A7%C3%A3o-ao-jupyter-notebook-para-python-b2cf79cea31d).\n",
        "\n",
        "### Alguns atalhos\n",
        "\n",
        "Pra usar o Jupyter de forma fluida e rápida, é importante utilizarmos alguns atalhos do teclado.\n",
        "\n",
        "Existem muitos atalhos (eles podem ser consultados no menu acima, em **Help >> Keyboard Shortcuts**), mas os pricipais utilizados são:\n",
        "\n",
        "- CTRL + ENTER ou SHIFT + ENTER: executa a célula;\n",
        "- ESC: deixa a célula em modo de comando (azul);\n",
        "- ESC e depois M: transforma a célula em célula de texto (markdown);\n",
        "- ESC e depois Y: transforma a célula em célula de código;\n",
        "- ESC e depois DD: apaga a célula;\n",
        "- ESC e depois A: (ABOVE) - cria uma célula acima da célula atual;\n",
        "- ESC e depois B: (BELOW) - cria uma célula abaixo da célula atual;"
      ]
    },
    {
      "cell_type": "markdown",
      "metadata": {
        "id": "BDCPlAFkW2vM"
      },
      "source": [
        "## Google Colab\n",
        "\n",
        "Uma alternativa interessante ao Jupyter é o [Google Colab](https://colab.research.google.com/notebooks/welcome.ipynb?hl=pt-BR).\n",
        "\n",
        "O Colab é essencialmente um Notebook, bem parecido com o Jupyter, mas com a diferença de ser online e integrado às contas Google.\n",
        "\n",
        "Usando o Colab, você utiliza os recursos disponibilizados pelo google (ou seja, recursos na nuvem). Isto pode ser interessante quando houver limitações de hardware! Além disso, muitas bibliotecas já estão instaladas, então você raramente precisa se preocupar em instalar alguma coisa, o que e super prático!\n",
        "\n",
        "Além disso, é possível também utilizar recursos especializados, como GPUs e [TPUs](https://cloud.google.com/tpu). Para saber mais detalhes, [clique aqui!](https://research.google.com/colaboratory/faq.html)"
      ]
    },
    {
      "cell_type": "markdown",
      "metadata": {
        "id": "wzNMOVEVW2vN"
      },
      "source": [
        "_________\n",
        "_________\n",
        "_____________"
      ]
    },
    {
      "cell_type": "markdown",
      "metadata": {
        "id": "XJDrqmipW2vO"
      },
      "source": [
        "## 2) Primeiro programa em Python\n",
        "\n",
        "Tradicionalmente, o primeiro programa feito em uma nova linguagem de programação consiste em exibir a frase \"Olá, mundo!\" na tela.\n",
        "\n",
        "Vamos fazer isso em Python?\n",
        "\n",
        "Para isso, basta utilizar a função `print()`, e indicar o texto a ser exibido entre aspas: \"Olá, mundo!\""
      ]
    },
    {
      "cell_type": "code",
      "execution_count": null,
      "metadata": {
        "id": "_TKPvkP6W2vO",
        "outputId": "a805c3d7-b842-4022-c7c3-86099d7bad94"
      },
      "outputs": [
        {
          "name": "stdout",
          "output_type": "stream",
          "text": [
            "Olá, mundo!\n"
          ]
        }
      ],
      "source": [
        "print(\"Olá, mundo!\")"
      ]
    },
    {
      "cell_type": "markdown",
      "metadata": {
        "id": "QJa1v6Y2W2vQ"
      },
      "source": [
        "Parabéns! Seu primeiro programa em Python foi executado com sucesso!\n",
        "\n",
        "Depois vamos falar melhor sobre o `print()`."
      ]
    },
    {
      "cell_type": "markdown",
      "metadata": {
        "id": "TW_jmFhdW2vR"
      },
      "source": [
        "_________\n",
        "_________"
      ]
    },
    {
      "cell_type": "markdown",
      "metadata": {
        "id": "S0wUp4VmW2vR"
      },
      "source": [
        "Depois vamos falar melhor sobre operações matemáticas em Python, mas podemos exibir o resultado de algumas operações simples usando a funçao print()\n",
        "\n",
        "Note que as instruções são executadas __na ordem em que aparecem!__"
      ]
    },
    {
      "cell_type": "code",
      "execution_count": null,
      "metadata": {
        "id": "zKGohEekW2vS",
        "outputId": "4be1e34a-45c0-4dc1-e3cd-87b027786f2e"
      },
      "outputs": [
        {
          "name": "stdout",
          "output_type": "stream",
          "text": [
            "4\n",
            "6\n",
            "2.0\n"
          ]
        }
      ],
      "source": [
        "print(2+2)\n",
        "print(2*3)\n",
        "print(4/2)"
      ]
    },
    {
      "cell_type": "markdown",
      "metadata": {
        "id": "LrEJgEqaW2vS"
      },
      "source": [
        "O jupyter nos permite também examinar o valor de uma expressão sem a necessidade de usar o print()\n",
        "\n",
        "Mas note que logo abaixo do código, aparece um \"Out[]\", o que não acontece quando usamos a função print()\n",
        "\n",
        "Esse é um jeito de \"espiar\" o output das operações do Python de forma direta!"
      ]
    },
    {
      "cell_type": "code",
      "execution_count": null,
      "metadata": {
        "id": "WezAf0oWW2vT",
        "outputId": "f97bdd0c-1008-4553-c232-bbfb7a37ea28"
      },
      "outputs": [
        {
          "name": "stdout",
          "output_type": "stream",
          "text": [
            "4\n"
          ]
        }
      ],
      "source": [
        "print(2+2)"
      ]
    },
    {
      "cell_type": "code",
      "execution_count": null,
      "metadata": {
        "id": "xKgLJDDrW2vU",
        "outputId": "3a371d14-52af-4483-dcbe-dff096df6a1b"
      },
      "outputs": [
        {
          "data": {
            "text/plain": [
              "4"
            ]
          },
          "execution_count": 22,
          "metadata": {},
          "output_type": "execute_result"
        }
      ],
      "source": [
        "2+2"
      ]
    },
    {
      "cell_type": "markdown",
      "metadata": {
        "id": "_j1J1IBRW2vU"
      },
      "source": [
        "Outra coisa importante é que o Jupyter só permite examinar o valor da **última** expressão no código:"
      ]
    },
    {
      "cell_type": "code",
      "execution_count": null,
      "metadata": {
        "id": "IHZSp5HDW2vU",
        "outputId": "0cf9375a-41c3-4a85-e7cf-9bfb7ad4ff8e"
      },
      "outputs": [
        {
          "data": {
            "text/plain": [
              "2.0"
            ]
          },
          "execution_count": 24,
          "metadata": {},
          "output_type": "execute_result"
        }
      ],
      "source": [
        "2+2\n",
        "2*3\n",
        "4/2"
      ]
    },
    {
      "cell_type": "markdown",
      "metadata": {
        "id": "eI9MOTKqW2vV"
      },
      "source": [
        "_________\n",
        "_________\n",
        "__________"
      ]
    },
    {
      "cell_type": "markdown",
      "metadata": {
        "id": "p_jr9ZEFW2vV"
      },
      "source": [
        "## 3) Variáveis\n",
        "\n",
        "Seria legal se pudéssemos **guardar** o valor das operações matemáticas que fizemos acima, não é mesmo?\n",
        "\n",
        "Isso é possível com o uso das **variáveis**, que são um pedacinho da memória onde armazenamos as operações do Python\n",
        "\n",
        "\n",
        "Uma variável pode legar qualquer nome, mas existem algumas regras:\n",
        "\n",
        "- O Python **diferencia** maiúscula de minúscula (ex: \"variavel\" é diferente de \"Variavel\", \"VaRiAvEl\" ou \"VARIAVEL\")\n",
        "    - Dica: melhor usar letras minúsculas pra nomes de variáveis\n",
        "- O nome das variáveis **não** pode ter espaço! Use um underline ao invés de espaço: \"minha_variavel\" ao invés de \"minha variavel\"\n",
        "- É melhor que o nome da variável **não** tenha acento (ex: não usar o nome \"variável\")\n",
        "- Existem algumas palavras reservadas do Python, que **não** podem ser usadas como nome de variável, ex: and, or, if, else, lambda, etc.\n",
        "- Também **não** use nome de funções para variáveis (ex: print)\n",
        "- Dica geral: o nome de variavel fica preto em python!\n",
        "    - Se o nome que você for dar ficar colorido, melhor escolher outro nome!"
      ]
    },
    {
      "cell_type": "markdown",
      "metadata": {
        "id": "eXwcleFOW2vV"
      },
      "source": [
        "### Criando três variaveis\n",
        "\n",
        "Agora, vamos criar três variáveis para armazenar os valores dos cálculos matemáticos.\n",
        "\n",
        "**IMPORTANTE (dica): O sinal \"=\" é lido como \"recebe\", pois o que estamos fazendo é guardar o valor da operação matemática no pedacinho de memória com o nome da variável, então o pedacinho de memória recebe o valor indicado depois do sinal de \"=\"**\n",
        "\n",
        "Ou seja, lemos o código a seguir como:\n",
        "\n",
        "- A variável que demos o nome de \"meu_numero\", **recebe** o valor da operação \"2+3\" (que é 5);\n",
        "- A variável que demos o nome de \"variavel\", **recebe** o valor da operação \"1+1\" (que é 2);\n",
        "- A variável que demos o nome de \"x\", **recebe** o valor da operação \"2\\*3\" (que é 6);\n",
        "\n",
        "O código a seguir apenas cria as variáveis: note que não há nenhum output!"
      ]
    },
    {
      "cell_type": "code",
      "execution_count": null,
      "metadata": {
        "id": "imVgoNR1W2vV"
      },
      "outputs": [],
      "source": [
        "resultado_da_operacao_2_mais_3 = 2+3"
      ]
    },
    {
      "cell_type": "code",
      "execution_count": null,
      "metadata": {
        "id": "nWBveA6UW2vV",
        "outputId": "5c07d5f8-2aa6-4c4e-ed61-33d5de71a568"
      },
      "outputs": [
        {
          "data": {
            "text/plain": [
              "5"
            ]
          },
          "execution_count": 37,
          "metadata": {},
          "output_type": "execute_result"
        }
      ],
      "source": [
        "resultado_da_operacao_2_mais_3"
      ]
    },
    {
      "cell_type": "code",
      "execution_count": null,
      "metadata": {
        "id": "8kDEEXhLW2vW"
      },
      "outputs": [],
      "source": [
        "Variavel = 2"
      ]
    },
    {
      "cell_type": "code",
      "execution_count": null,
      "metadata": {
        "id": "RNa8AGN9W2vW"
      },
      "outputs": [],
      "source": [
        "VARIAVEL = 20"
      ]
    },
    {
      "cell_type": "code",
      "execution_count": null,
      "metadata": {
        "id": "gH0WwSLSW2vW",
        "outputId": "f6d637ea-f8df-4f54-8570-9971bbed795a"
      },
      "outputs": [
        {
          "data": {
            "text/plain": [
              "2"
            ]
          },
          "execution_count": 40,
          "metadata": {},
          "output_type": "execute_result"
        }
      ],
      "source": [
        "Variavel"
      ]
    },
    {
      "cell_type": "code",
      "execution_count": null,
      "metadata": {
        "id": "bGDnh9AyW2vX",
        "outputId": "3d33dc60-f9e1-424f-9c4a-47cfb1f891af"
      },
      "outputs": [
        {
          "data": {
            "text/plain": [
              "20"
            ]
          },
          "execution_count": 42,
          "metadata": {},
          "output_type": "execute_result"
        }
      ],
      "source": [
        "VARIAVEL"
      ]
    },
    {
      "cell_type": "code",
      "execution_count": null,
      "metadata": {
        "id": "1r59WkOPW2vX"
      },
      "outputs": [],
      "source": [
        "meu_numero = 2+3\n",
        "variavel = 1+2\n",
        "x = 2*3"
      ]
    },
    {
      "cell_type": "markdown",
      "metadata": {
        "id": "7TUY9hFpW2vX"
      },
      "source": [
        "Para examinarmos o valor armazenado nas variáveis, podemos, individualmente, \"chamar\" a variável na célula:"
      ]
    },
    {
      "cell_type": "code",
      "execution_count": null,
      "metadata": {
        "id": "Ww-YJ5ypW2vX",
        "outputId": "b3e9eb77-012d-4528-c72b-ab9475f824d4"
      },
      "outputs": [
        {
          "data": {
            "text/plain": [
              "5"
            ]
          },
          "execution_count": 28,
          "metadata": {},
          "output_type": "execute_result"
        }
      ],
      "source": [
        "meu_numero"
      ]
    },
    {
      "cell_type": "code",
      "execution_count": null,
      "metadata": {
        "id": "21J2EoutW2vY",
        "outputId": "11ac8950-588b-4781-97d3-85aa083a9270"
      },
      "outputs": [
        {
          "data": {
            "text/plain": [
              "6"
            ]
          },
          "execution_count": 29,
          "metadata": {},
          "output_type": "execute_result"
        }
      ],
      "source": [
        "x"
      ]
    },
    {
      "cell_type": "code",
      "execution_count": null,
      "metadata": {
        "id": "Y2Y6rzh0W2vY",
        "outputId": "d1635b74-d725-423a-d118-5cc1e663a0e8"
      },
      "outputs": [
        {
          "data": {
            "text/plain": [
              "3"
            ]
          },
          "execution_count": 30,
          "metadata": {},
          "output_type": "execute_result"
        }
      ],
      "source": [
        "variavel"
      ]
    },
    {
      "cell_type": "markdown",
      "metadata": {
        "id": "_ShCw9VJW2vY"
      },
      "source": [
        "Se quisermos exibir o valor das 3 variáveis em seguida, podemos usar o print\n",
        "\n",
        "Note que de fato são exibidos os **valores armazenados nas variáveis!**"
      ]
    },
    {
      "cell_type": "code",
      "execution_count": null,
      "metadata": {
        "id": "DQUxPPFJW2vZ",
        "outputId": "33f7a237-64ee-4983-b6ac-aa200a6ff6ef"
      },
      "outputs": [
        {
          "name": "stdout",
          "output_type": "stream",
          "text": [
            "5\n",
            "3\n",
            "6\n"
          ]
        }
      ],
      "source": [
        "print(meu_numero)\n",
        "print(variavel)\n",
        "print(x)"
      ]
    },
    {
      "cell_type": "markdown",
      "metadata": {
        "id": "IxafOK6mW2vZ"
      },
      "source": [
        "Como o próprio nome diz, variáveis podem variar, ou seja, eu posso mudar o valor que tá armazenado na variável.\n",
        "\n",
        "Se, por exemplo, eu quiser que a variável \"x\" passe a receber o valor \"42\", eu faço simplesmente o código a seguir, que é lido como \"a variável x recebe o valor 42\"."
      ]
    },
    {
      "cell_type": "code",
      "execution_count": null,
      "metadata": {
        "id": "ZEtWtmX-W2vb",
        "outputId": "fa2db29e-15d6-411e-ddde-3602890e903a"
      },
      "outputs": [
        {
          "data": {
            "text/plain": [
              "6"
            ]
          },
          "execution_count": 32,
          "metadata": {},
          "output_type": "execute_result"
        }
      ],
      "source": [
        "x"
      ]
    },
    {
      "cell_type": "code",
      "execution_count": null,
      "metadata": {
        "id": "eFb-dVhYW2vb"
      },
      "outputs": [],
      "source": [
        "x = 42"
      ]
    },
    {
      "cell_type": "markdown",
      "metadata": {
        "id": "lUijj-QGW2vb"
      },
      "source": [
        "Após fazer isso, o valor anterior (6), é completamente esquecido, e a variável x agora tem apenas o valor 42.\n",
        "\n",
        "Chamando a variável:"
      ]
    },
    {
      "cell_type": "code",
      "execution_count": null,
      "metadata": {
        "id": "hpGiP6W-W2vb",
        "outputId": "7c4098b3-9d33-4879-ded0-ee5b4d3d1ca3"
      },
      "outputs": [
        {
          "data": {
            "text/plain": [
              "42"
            ]
          },
          "execution_count": 34,
          "metadata": {},
          "output_type": "execute_result"
        }
      ],
      "source": [
        "x"
      ]
    },
    {
      "cell_type": "code",
      "execution_count": null,
      "metadata": {
        "id": "5zGktTFvW2vc",
        "outputId": "6c07bac9-bf97-446f-8168-28a66026074b"
      },
      "outputs": [
        {
          "name": "stdout",
          "output_type": "stream",
          "text": [
            "Olá, André! Tudo bem?\n"
          ]
        }
      ],
      "source": [
        "print(\"Olá, André! Tudo bem?\")"
      ]
    },
    {
      "cell_type": "code",
      "execution_count": null,
      "metadata": {
        "id": "nvs7e7YLW2vc",
        "outputId": "86740541-9985-415a-948e-11820fb12c5e"
      },
      "outputs": [
        {
          "name": "stdout",
          "output_type": "stream",
          "text": [
            "um dois três\n"
          ]
        }
      ],
      "source": [
        "print(\"um\", \"dois\", \"três\")"
      ]
    },
    {
      "cell_type": "code",
      "execution_count": null,
      "metadata": {
        "id": "Qxj9iw1aW2vi",
        "outputId": "a8b2fc94-1caf-4fb9-c4ef-fd44c4a4d79a"
      },
      "outputs": [
        {
          "name": "stdout",
          "output_type": "stream",
          "text": [
            "Olá, Maria! Tudo bem?\n"
          ]
        }
      ],
      "source": [
        "nome = \"Maria!\"\n",
        "\n",
        "print(\"Olá,\", nome, \"Tudo bem?\")"
      ]
    },
    {
      "cell_type": "markdown",
      "metadata": {
        "id": "g3Hd1o3vW2vj"
      },
      "source": [
        "_________\n",
        "_________"
      ]
    }
  ],
  "metadata": {
    "kernelspec": {
      "display_name": "Python 3 (ipykernel)",
      "language": "python",
      "name": "python3"
    },
    "language_info": {
      "codemirror_mode": {
        "name": "ipython",
        "version": 3
      },
      "file_extension": ".py",
      "mimetype": "text/x-python",
      "name": "python",
      "nbconvert_exporter": "python",
      "pygments_lexer": "ipython3",
      "version": "3.9.13"
    },
    "colab": {
      "provenance": [],
      "include_colab_link": true
    }
  },
  "nbformat": 4,
  "nbformat_minor": 0
}