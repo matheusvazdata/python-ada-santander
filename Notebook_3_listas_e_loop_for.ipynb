{
  "cells": [
    {
      "cell_type": "markdown",
      "metadata": {
        "id": "view-in-github",
        "colab_type": "text"
      },
      "source": [
        "<a href=\"https://colab.research.google.com/github/matheusvazdata/python-ada-santander/blob/main/Notebook_3_listas_e_loop_for.ipynb\" target=\"_parent\"><img src=\"https://colab.research.google.com/assets/colab-badge.svg\" alt=\"Open In Colab\"/></a>"
      ]
    },
    {
      "cell_type": "markdown",
      "metadata": {
        "id": "FEGV_1XrhMpG"
      },
      "source": [
        "# Aula 3 - listas e loop for\n",
        "\n",
        "Na aula de hoje, vamos explorar os seguintes tópicos em Python:\n",
        "\n",
        "- 1) Listas\n",
        "- 2) Funções de listas\n",
        "- 3) Laços de repetição (for)\n",
        "    - 3.1) Compreensão de listas\n",
        "\n",
        "_____________\n",
        "\n",
        "### Problema gerador: calcular a média de um aluno, a partir das notas informadas por ele.\n",
        "\n",
        "O aluno deve informar a quantidade de notas, depois informar as notas uma a uma, e então a média é calculada e exibida."
      ]
    },
    {
      "cell_type": "markdown",
      "metadata": {
        "id": "2BvgJhMchMpJ"
      },
      "source": [
        "____"
      ]
    },
    {
      "cell_type": "markdown",
      "metadata": {
        "id": "ltW1R3JthMpL"
      },
      "source": [
        "## 1) Listas\n",
        "\n",
        "Imagine que você quer armazenar várias variáveis relacionadas, como, por exemplo, todas suas notas em provas.\n",
        "\n",
        "Se houver muitas notas, não é muito prático criar uma variável para cada uma. Seria muito mais conveniente armazenar todas as notas em uma **lista**, não é mesmo?\n",
        "\n",
        "Em python, temos uma estrutura de dados que é exatamente isso: uma lista! Listas são indicadas por colchete `[]`.\n",
        "\n",
        "Uma lista nada mais é que um **conjunto de objetos**, que podem ser de diversos tipos:"
      ]
    },
    {
      "cell_type": "markdown",
      "metadata": {
        "id": "1IGjZ6XLhMpM"
      },
      "source": [
        "Lista de números (int e float)"
      ]
    },
    {
      "cell_type": "code",
      "source": [
        "lista_numeros = [2, 5, 4.2, -6]"
      ],
      "metadata": {
        "id": "Qmypn4Lqif2G"
      },
      "execution_count": 1,
      "outputs": []
    },
    {
      "cell_type": "code",
      "source": [
        "print(lista_numeros)"
      ],
      "metadata": {
        "colab": {
          "base_uri": "https://localhost:8080/"
        },
        "id": "zdwg1CFmixHt",
        "outputId": "c0db5de7-8914-4b69-bc32-a3089ac50781"
      },
      "execution_count": 2,
      "outputs": [
        {
          "output_type": "stream",
          "name": "stdout",
          "text": [
            "[2, 5, 4.2, -6]\n"
          ]
        }
      ]
    },
    {
      "cell_type": "code",
      "source": [
        "lista_numeros"
      ],
      "metadata": {
        "colab": {
          "base_uri": "https://localhost:8080/"
        },
        "id": "AlanpYudizUa",
        "outputId": "18a6c236-548e-49a8-c916-fa6dd86e6ccd"
      },
      "execution_count": 3,
      "outputs": [
        {
          "output_type": "execute_result",
          "data": {
            "text/plain": [
              "[2, 5, 4.2, -6]"
            ]
          },
          "metadata": {},
          "execution_count": 3
        }
      ]
    },
    {
      "cell_type": "code",
      "source": [
        "type(lista_numeros)"
      ],
      "metadata": {
        "colab": {
          "base_uri": "https://localhost:8080/"
        },
        "id": "31KK4eoVi01b",
        "outputId": "103d41fe-542b-4d9c-99c1-e81a7f3eb36a"
      },
      "execution_count": 4,
      "outputs": [
        {
          "output_type": "execute_result",
          "data": {
            "text/plain": [
              "list"
            ]
          },
          "metadata": {},
          "execution_count": 4
        }
      ]
    },
    {
      "cell_type": "markdown",
      "metadata": {
        "id": "KAYHgzwqhMpP"
      },
      "source": [
        "Lista de strings"
      ]
    },
    {
      "cell_type": "code",
      "execution_count": 5,
      "metadata": {
        "colab": {
          "base_uri": "https://localhost:8080/"
        },
        "id": "VHVUYhtXhMpQ",
        "outputId": "191fbde3-56f9-466c-e7f3-fa9c08577b52"
      },
      "outputs": [
        {
          "output_type": "execute_result",
          "data": {
            "text/plain": [
              "['andré', 'ada', 'python']"
            ]
          },
          "metadata": {},
          "execution_count": 5
        }
      ],
      "source": [
        "[\"andré\", \"ada\", \"python\"]"
      ]
    },
    {
      "cell_type": "markdown",
      "metadata": {
        "id": "PF0m4taghMpQ"
      },
      "source": [
        "Lista de números e strings"
      ]
    },
    {
      "cell_type": "code",
      "execution_count": 6,
      "metadata": {
        "colab": {
          "base_uri": "https://localhost:8080/"
        },
        "id": "zz-dmSzzhMpR",
        "outputId": "11c82f19-20fd-49b9-8200-a23a859eb8d3"
      },
      "outputs": [
        {
          "output_type": "execute_result",
          "data": {
            "text/plain": [
              "['ada', 10, -4.5]"
            ]
          },
          "metadata": {},
          "execution_count": 6
        }
      ],
      "source": [
        "[\"ada\", 10, -4.5]"
      ]
    },
    {
      "cell_type": "markdown",
      "metadata": {
        "id": "NuqCSmm1hMpS"
      },
      "source": [
        "Lista de listas"
      ]
    },
    {
      "cell_type": "code",
      "execution_count": 7,
      "metadata": {
        "colab": {
          "base_uri": "https://localhost:8080/"
        },
        "id": "rHEPpLN-hMpT",
        "outputId": "0df98f39-16bf-4893-9e90-3532351af3be"
      },
      "outputs": [
        {
          "output_type": "execute_result",
          "data": {
            "text/plain": [
              "[10, ['ada', 'python'], True]"
            ]
          },
          "metadata": {},
          "execution_count": 7
        }
      ],
      "source": [
        "[10, [\"ada\", \"python\"], True]"
      ]
    },
    {
      "cell_type": "markdown",
      "metadata": {
        "id": "xCRjOFTzhMpT"
      },
      "source": [
        "Tudo junto"
      ]
    },
    {
      "cell_type": "code",
      "execution_count": 8,
      "metadata": {
        "colab": {
          "base_uri": "https://localhost:8080/"
        },
        "id": "IF2HrBUThMpU",
        "outputId": "3e20e214-bd70-4a49-8f75-c7b0c726fdc3"
      },
      "outputs": [
        {
          "output_type": "execute_result",
          "data": {
            "text/plain": [
              "[10, ['ada', 'python'], True, 4.2, ['abc', 4.2, 42, False]]"
            ]
          },
          "metadata": {},
          "execution_count": 8
        }
      ],
      "source": [
        "[10, [\"ada\", \"python\"], True, 4.2, [\"abc\", 4.2, 42, False]]"
      ]
    },
    {
      "cell_type": "markdown",
      "metadata": {
        "id": "5GWHU9TuhMpU"
      },
      "source": [
        "Muitas vezes, queremos **acessar elementos individuais** da lista.\n",
        "\n",
        "Para fazer isso, devemos indicar qual é o **índice** respectivo ao elemento, isto é, qual é a **posição** do elemento dentro da lista.\n",
        "\n",
        "> Por isso, este procedimento é conhecido como **indexação**."
      ]
    },
    {
      "cell_type": "code",
      "source": [
        "minha_lista = [\"a\", \"b\", \"c\"]"
      ],
      "metadata": {
        "id": "OiAvXfQ6jize"
      },
      "execution_count": 9,
      "outputs": []
    },
    {
      "cell_type": "markdown",
      "metadata": {
        "id": "dvW387i3hMpU"
      },
      "source": [
        "Para acessar o elemento na **posição i** da lista \"minha_lista\", fazemos:\n",
        "\n",
        "```python\n",
        "minha_lista[i]\n",
        "```"
      ]
    },
    {
      "cell_type": "markdown",
      "metadata": {
        "id": "s0J4K8h_hMpU"
      },
      "source": [
        "**MUITO IMPORTANTE: a numeração de índice começa em zero!**\n",
        "\n",
        "Ou seja:\n",
        "\n",
        "- O primeiro elemento tem índice 0: ```minha_lista[0]```,\n",
        "- O segundo tem índice 1: ```minha_lista[1]```,\n",
        "\n",
        "E assim por diante!"
      ]
    },
    {
      "cell_type": "markdown",
      "metadata": {
        "id": "OXdibf9shMpW"
      },
      "source": [
        "Também podemos acessar os últimos elementos, usando índices negativos:\n",
        "\n",
        "- O último elemento tem índice -1: ```minha_lista[-1]```,\n",
        "- O penúltimo tem índice -2: ```minha_lista[-2]```,\n",
        "\n",
        "E assim por diante!"
      ]
    },
    {
      "cell_type": "code",
      "source": [
        "minha_lista"
      ],
      "metadata": {
        "colab": {
          "base_uri": "https://localhost:8080/"
        },
        "id": "n-P2jbhbkGVS",
        "outputId": "90daa670-880d-49a2-8e03-c3435a6d5212"
      },
      "execution_count": 10,
      "outputs": [
        {
          "output_type": "execute_result",
          "data": {
            "text/plain": [
              "['a', 'b', 'c']"
            ]
          },
          "metadata": {},
          "execution_count": 10
        }
      ]
    },
    {
      "cell_type": "code",
      "execution_count": 11,
      "metadata": {
        "colab": {
          "base_uri": "https://localhost:8080/",
          "height": 35
        },
        "id": "yNKqmr-vhMpW",
        "outputId": "8e965a0c-6627-483c-a298-75cd0cc7dd4d"
      },
      "outputs": [
        {
          "output_type": "execute_result",
          "data": {
            "text/plain": [
              "'a'"
            ],
            "application/vnd.google.colaboratory.intrinsic+json": {
              "type": "string"
            }
          },
          "metadata": {},
          "execution_count": 11
        }
      ],
      "source": [
        "minha_lista[0]"
      ]
    },
    {
      "cell_type": "code",
      "source": [
        "minha_lista[2]"
      ],
      "metadata": {
        "colab": {
          "base_uri": "https://localhost:8080/",
          "height": 35
        },
        "id": "UnknGwTEkJ6j",
        "outputId": "bc4e7cd6-324b-4e90-82fc-dea04bbe0d08"
      },
      "execution_count": 12,
      "outputs": [
        {
          "output_type": "execute_result",
          "data": {
            "text/plain": [
              "'c'"
            ],
            "application/vnd.google.colaboratory.intrinsic+json": {
              "type": "string"
            }
          },
          "metadata": {},
          "execution_count": 12
        }
      ]
    },
    {
      "cell_type": "code",
      "source": [
        "minha_lista[-3]"
      ],
      "metadata": {
        "colab": {
          "base_uri": "https://localhost:8080/",
          "height": 35
        },
        "id": "yunaGU3ukTyr",
        "outputId": "6a805de7-739d-4377-cf7a-a9113ea4d8e0"
      },
      "execution_count": 13,
      "outputs": [
        {
          "output_type": "execute_result",
          "data": {
            "text/plain": [
              "'a'"
            ],
            "application/vnd.google.colaboratory.intrinsic+json": {
              "type": "string"
            }
          },
          "metadata": {},
          "execution_count": 13
        }
      ]
    },
    {
      "cell_type": "markdown",
      "metadata": {
        "id": "kteGl3tXhMpW"
      },
      "source": [
        "Também podemos **acessar pedaços da lista**, indicando o intervalo de índices que queremos, separados por \":\",  **com intervalo superior aberto**:\n",
        "\n",
        "- ```minha_lista[1:3]```: seleciona os elementos de indice 1 até indice 2\n",
        "- ```minha_lista[:4]```: seleciona do primeiro elemento até o de índice 3\n",
        "- ```minha_lista[3:]```: seleciona do elemento de índice 3 até o final\n",
        "- ```minha_lista[:]```: seleciona a lista inteira\n",
        "\n",
        "Este conceito é chamado de \"slicing\" em Python, pois você está pegando \"fatias\" da lista!"
      ]
    },
    {
      "cell_type": "code",
      "execution_count": 14,
      "metadata": {
        "id": "1Fd9WPnHhMpX"
      },
      "outputs": [],
      "source": [
        "minha_lista = [\"a\", \"b\", \"c\", 42, 5, 7, [True, \"Ada\"], 3.14]"
      ]
    },
    {
      "cell_type": "code",
      "source": [
        "minha_lista[3]"
      ],
      "metadata": {
        "colab": {
          "base_uri": "https://localhost:8080/"
        },
        "id": "jriHdCoGksvz",
        "outputId": "11636fb5-5b82-4bf1-bf9c-71f42a9f4888"
      },
      "execution_count": 15,
      "outputs": [
        {
          "output_type": "execute_result",
          "data": {
            "text/plain": [
              "42"
            ]
          },
          "metadata": {},
          "execution_count": 15
        }
      ]
    },
    {
      "cell_type": "code",
      "source": [
        "minha_lista[1:4]"
      ],
      "metadata": {
        "colab": {
          "base_uri": "https://localhost:8080/"
        },
        "id": "vNAlerqKkzG0",
        "outputId": "24cc921b-7a2c-40fa-f067-20217aeed28b"
      },
      "execution_count": 16,
      "outputs": [
        {
          "output_type": "execute_result",
          "data": {
            "text/plain": [
              "['b', 'c', 42]"
            ]
          },
          "metadata": {},
          "execution_count": 16
        }
      ]
    },
    {
      "cell_type": "code",
      "source": [
        "minha_lista[0:4]"
      ],
      "metadata": {
        "colab": {
          "base_uri": "https://localhost:8080/"
        },
        "id": "eQvqBixxlD4E",
        "outputId": "02a70dd1-5216-4989-ad94-f7035b982281"
      },
      "execution_count": 17,
      "outputs": [
        {
          "output_type": "execute_result",
          "data": {
            "text/plain": [
              "['a', 'b', 'c', 42]"
            ]
          },
          "metadata": {},
          "execution_count": 17
        }
      ]
    },
    {
      "cell_type": "code",
      "source": [
        "minha_lista[:4]"
      ],
      "metadata": {
        "colab": {
          "base_uri": "https://localhost:8080/"
        },
        "id": "JB5ms1KClaye",
        "outputId": "c1674449-673d-4b3a-937c-e5c5a80648b4"
      },
      "execution_count": 18,
      "outputs": [
        {
          "output_type": "execute_result",
          "data": {
            "text/plain": [
              "['a', 'b', 'c', 42]"
            ]
          },
          "metadata": {},
          "execution_count": 18
        }
      ]
    },
    {
      "cell_type": "code",
      "source": [
        "minha_lista[4:]"
      ],
      "metadata": {
        "colab": {
          "base_uri": "https://localhost:8080/"
        },
        "id": "7j1AYb0clcy1",
        "outputId": "824af068-36eb-4a94-8c2e-72355530a330"
      },
      "execution_count": 19,
      "outputs": [
        {
          "output_type": "execute_result",
          "data": {
            "text/plain": [
              "[5, 7, [True, 'Ada'], 3.14]"
            ]
          },
          "metadata": {},
          "execution_count": 19
        }
      ]
    },
    {
      "cell_type": "code",
      "source": [
        "minha_lista"
      ],
      "metadata": {
        "colab": {
          "base_uri": "https://localhost:8080/"
        },
        "id": "Pp2PC5Vklwhg",
        "outputId": "f3eff93e-d2f2-4356-fedd-9e788a07439e"
      },
      "execution_count": 20,
      "outputs": [
        {
          "output_type": "execute_result",
          "data": {
            "text/plain": [
              "['a', 'b', 'c', 42, 5, 7, [True, 'Ada'], 3.14]"
            ]
          },
          "metadata": {},
          "execution_count": 20
        }
      ]
    },
    {
      "cell_type": "code",
      "source": [
        "minha_lista[-2][-1]"
      ],
      "metadata": {
        "colab": {
          "base_uri": "https://localhost:8080/",
          "height": 35
        },
        "id": "ZHqxfTtKlq5L",
        "outputId": "05790b15-b897-490b-c4e1-b68241137cb5"
      },
      "execution_count": 21,
      "outputs": [
        {
          "output_type": "execute_result",
          "data": {
            "text/plain": [
              "'Ada'"
            ],
            "application/vnd.google.colaboratory.intrinsic+json": {
              "type": "string"
            }
          },
          "metadata": {},
          "execution_count": 21
        }
      ]
    },
    {
      "cell_type": "markdown",
      "metadata": {
        "id": "VM1JM1PmhMpX"
      },
      "source": [
        "Podemos também fazer algumas **operações com listas**"
      ]
    },
    {
      "cell_type": "markdown",
      "metadata": {
        "id": "5CDgtEOihMpY"
      },
      "source": [
        "Soma de listas: ao **somar listas**, os elementos são **concatenados**, na ordem dada, para formar uma lista maior:"
      ]
    },
    {
      "cell_type": "code",
      "execution_count": 22,
      "metadata": {
        "colab": {
          "base_uri": "https://localhost:8080/"
        },
        "id": "5659Lym6hMpY",
        "outputId": "8f18bd1b-4ee6-4da6-8a38-68f294709e91"
      },
      "outputs": [
        {
          "output_type": "execute_result",
          "data": {
            "text/plain": [
              "[1, 2, 3, '4', 5, '6']"
            ]
          },
          "metadata": {},
          "execution_count": 22
        }
      ],
      "source": [
        "l1 = [1, 2, 3]\n",
        "l2 = [\"4\", 5, \"6\"]\n",
        "\n",
        "l3 = l1 + l2\n",
        "\n",
        "l3"
      ]
    },
    {
      "cell_type": "markdown",
      "metadata": {
        "id": "x7cHaUw-hMpY"
      },
      "source": [
        "Ao **multiplicar listas por um inteiro**, os elementos são repetidos, na ordem que aparecem:"
      ]
    },
    {
      "cell_type": "code",
      "execution_count": 23,
      "metadata": {
        "colab": {
          "base_uri": "https://localhost:8080/"
        },
        "id": "qBZcSHvRhMpZ",
        "outputId": "630b3a05-ff2a-4e8d-f145-68c4305dac50"
      },
      "outputs": [
        {
          "output_type": "execute_result",
          "data": {
            "text/plain": [
              "[1, 2, 3, 1, 2, 3, 1, 2, 3, 1, 2, 3]"
            ]
          },
          "metadata": {},
          "execution_count": 23
        }
      ],
      "source": [
        "l1*4"
      ]
    },
    {
      "cell_type": "code",
      "source": [
        "[\"ada\"]*5"
      ],
      "metadata": {
        "colab": {
          "base_uri": "https://localhost:8080/"
        },
        "id": "MSOcZm65CVfP",
        "outputId": "9b76c402-604c-4db3-f87b-8720c5bbad62"
      },
      "execution_count": 24,
      "outputs": [
        {
          "output_type": "execute_result",
          "data": {
            "text/plain": [
              "['ada', 'ada', 'ada', 'ada', 'ada']"
            ]
          },
          "metadata": {},
          "execution_count": 24
        }
      ]
    },
    {
      "cell_type": "markdown",
      "metadata": {
        "id": "z2pZr2BbhMpZ"
      },
      "source": [
        "Se quisermos somar os elementos de duas listas, ou multiplicá-los por algum número, temos que usar um **laço**, como veremos logo mais!"
      ]
    },
    {
      "cell_type": "markdown",
      "metadata": {
        "id": "yFnYJal-hMpZ"
      },
      "source": [
        "É possível transformar strings em uma **lista de caracteres**:"
      ]
    },
    {
      "cell_type": "code",
      "execution_count": 25,
      "metadata": {
        "colab": {
          "base_uri": "https://localhost:8080/"
        },
        "id": "dUS-wdnDhMpa",
        "outputId": "c3622d48-6ebd-4199-d534-3e3860b91803"
      },
      "outputs": [
        {
          "output_type": "execute_result",
          "data": {
            "text/plain": [
              "['M', 'a', 't', 'h', 'e', 'u', 's']"
            ]
          },
          "metadata": {},
          "execution_count": 25
        }
      ],
      "source": [
        "list(\"Matheus\")"
      ]
    },
    {
      "cell_type": "markdown",
      "metadata": {
        "id": "CTkdwUf5hMpa"
      },
      "source": [
        "__________\n",
        "__________\n",
        "__________"
      ]
    },
    {
      "cell_type": "markdown",
      "metadata": {
        "id": "TjiEUkaIhMpb"
      },
      "source": [
        "## 2) Funções de listas"
      ]
    },
    {
      "cell_type": "markdown",
      "metadata": {
        "id": "Yfu1ZiCJhMpb"
      },
      "source": [
        "Podemos começar com uma lista vazia, e preenchê-la aos poucos.\n",
        "\n",
        "Para **criar uma lista vazia**, fazemos:"
      ]
    },
    {
      "cell_type": "code",
      "execution_count": 26,
      "metadata": {
        "colab": {
          "base_uri": "https://localhost:8080/"
        },
        "id": "gkWzEBfnhMpb",
        "outputId": "9857b6d8-f534-41a3-d680-39cccf4994dd"
      },
      "outputs": [
        {
          "output_type": "execute_result",
          "data": {
            "text/plain": [
              "[]"
            ]
          },
          "metadata": {},
          "execution_count": 26
        }
      ],
      "source": [
        "lista = []\n",
        "\n",
        "lista"
      ]
    },
    {
      "cell_type": "markdown",
      "metadata": {
        "id": "7KIqujAXhMpc"
      },
      "source": [
        "Para adicionar um elemento **ao fim da lista**, usamos a função \"append()\".\n",
        "\n",
        "**OBS.: só podemos apendar um único elemento por vez!**"
      ]
    },
    {
      "cell_type": "code",
      "execution_count": 27,
      "metadata": {
        "id": "AdOsZ4_EhMpc"
      },
      "outputs": [],
      "source": [
        "lista.append(5)"
      ]
    },
    {
      "cell_type": "code",
      "source": [
        "lista"
      ],
      "metadata": {
        "colab": {
          "base_uri": "https://localhost:8080/"
        },
        "id": "4SpdnmATDPVr",
        "outputId": "5aa9f7ef-a56f-4884-a79b-86b0c09bd825"
      },
      "execution_count": 28,
      "outputs": [
        {
          "output_type": "execute_result",
          "data": {
            "text/plain": [
              "[5]"
            ]
          },
          "metadata": {},
          "execution_count": 28
        }
      ]
    },
    {
      "cell_type": "code",
      "source": [
        "lista.append(10)\n",
        "lista.append(\"ada\")\n",
        "\n",
        "lista"
      ],
      "metadata": {
        "colab": {
          "base_uri": "https://localhost:8080/"
        },
        "id": "vBZZhhYxDigR",
        "outputId": "838be549-f46d-499f-afef-1aff3c3136e7"
      },
      "execution_count": 29,
      "outputs": [
        {
          "output_type": "execute_result",
          "data": {
            "text/plain": [
              "[5, 10, 'ada']"
            ]
          },
          "metadata": {},
          "execution_count": 29
        }
      ]
    },
    {
      "cell_type": "code",
      "source": [
        "lista.append(2)"
      ],
      "metadata": {
        "id": "9YpAAWNkDohx"
      },
      "execution_count": 30,
      "outputs": []
    },
    {
      "cell_type": "code",
      "source": [
        "lista"
      ],
      "metadata": {
        "colab": {
          "base_uri": "https://localhost:8080/"
        },
        "id": "WYPX5AHMDuRO",
        "outputId": "ad9f34e7-7619-4871-f549-ffa20f15828a"
      },
      "execution_count": 31,
      "outputs": [
        {
          "output_type": "execute_result",
          "data": {
            "text/plain": [
              "[5, 10, 'ada', 2]"
            ]
          },
          "metadata": {},
          "execution_count": 31
        }
      ]
    },
    {
      "cell_type": "markdown",
      "metadata": {
        "id": "E8Lk_ZqWhMpc"
      },
      "source": [
        "Se você quiser adicionar um elemento numa **posição específica**, use a função \"insert()\", onde o primeiro argumento é a posição, e o segundo é o elemento:\n",
        "\n",
        "**OBS.: só podemos inserir um único elemento por vez!**"
      ]
    },
    {
      "cell_type": "code",
      "execution_count": 32,
      "metadata": {
        "id": "JlZYXkexhMpd"
      },
      "outputs": [],
      "source": [
        "lista.insert(2, True)"
      ]
    },
    {
      "cell_type": "code",
      "source": [
        "lista"
      ],
      "metadata": {
        "colab": {
          "base_uri": "https://localhost:8080/"
        },
        "id": "9sSNGF53D_E7",
        "outputId": "a74a59a1-2fe2-4373-b99a-57dae2e89921"
      },
      "execution_count": 33,
      "outputs": [
        {
          "output_type": "execute_result",
          "data": {
            "text/plain": [
              "[5, 10, True, 'ada', 2]"
            ]
          },
          "metadata": {},
          "execution_count": 33
        }
      ]
    },
    {
      "cell_type": "markdown",
      "metadata": {
        "id": "n95ZKKx_hMpd"
      },
      "source": [
        "Podemos, também, **redefinir um elemento da lista individualmente**. Para isso, basta selecionarmos este elemento, e redefiní-lo:"
      ]
    },
    {
      "cell_type": "code",
      "execution_count": 34,
      "metadata": {
        "id": "jAWsirLzhMpd"
      },
      "outputs": [],
      "source": [
        "lista[3] = \"Matheus\""
      ]
    },
    {
      "cell_type": "code",
      "source": [
        "lista"
      ],
      "metadata": {
        "colab": {
          "base_uri": "https://localhost:8080/"
        },
        "id": "j0Tu4NQgELXe",
        "outputId": "d0c6983f-08b6-47a4-c24b-10c40113092b"
      },
      "execution_count": 35,
      "outputs": [
        {
          "output_type": "execute_result",
          "data": {
            "text/plain": [
              "[5, 10, True, 'Matheus', 2]"
            ]
          },
          "metadata": {},
          "execution_count": 35
        }
      ]
    },
    {
      "cell_type": "code",
      "source": [
        "lista[1] = lista[1] + 5"
      ],
      "metadata": {
        "id": "0ZG1Kee4EYpb"
      },
      "execution_count": 36,
      "outputs": []
    },
    {
      "cell_type": "code",
      "source": [
        "lista"
      ],
      "metadata": {
        "colab": {
          "base_uri": "https://localhost:8080/"
        },
        "id": "YOZjGwBXEc6B",
        "outputId": "f13179ba-3bca-4295-8bea-3eafc205b8dc"
      },
      "execution_count": 37,
      "outputs": [
        {
          "output_type": "execute_result",
          "data": {
            "text/plain": [
              "[5, 15, True, 'Matheus', 2]"
            ]
          },
          "metadata": {},
          "execution_count": 37
        }
      ]
    },
    {
      "cell_type": "markdown",
      "metadata": {
        "id": "g8CeKLnKhMpe"
      },
      "source": [
        "Para **remover um elemento da lista**, use a função \"remove()\".\n",
        "\n",
        "**OBS.: Essa função remove apenas a primeira aparição do elemento**:"
      ]
    },
    {
      "cell_type": "code",
      "execution_count": 38,
      "metadata": {
        "id": "WFIUROf5hMpe"
      },
      "outputs": [],
      "source": [
        "lista.remove(15)"
      ]
    },
    {
      "cell_type": "code",
      "source": [
        "lista"
      ],
      "metadata": {
        "colab": {
          "base_uri": "https://localhost:8080/"
        },
        "id": "O2W5NnRwEui0",
        "outputId": "49ac8bd2-9706-42e7-a840-2ea07d2a90b5"
      },
      "execution_count": 39,
      "outputs": [
        {
          "output_type": "execute_result",
          "data": {
            "text/plain": [
              "[5, True, 'Matheus', 2]"
            ]
          },
          "metadata": {},
          "execution_count": 39
        }
      ]
    },
    {
      "cell_type": "code",
      "source": [
        "lista.append(15)\n",
        "lista.append(7)\n",
        "lista.append(15)"
      ],
      "metadata": {
        "id": "k9MYr2LhEwuu"
      },
      "execution_count": 40,
      "outputs": []
    },
    {
      "cell_type": "code",
      "source": [
        "lista"
      ],
      "metadata": {
        "colab": {
          "base_uri": "https://localhost:8080/"
        },
        "id": "RxJ0pXobE0QE",
        "outputId": "bf58f9f1-f7d7-4581-867d-b0efc1182c7b"
      },
      "execution_count": 41,
      "outputs": [
        {
          "output_type": "execute_result",
          "data": {
            "text/plain": [
              "[5, True, 'Matheus', 2, 15, 7, 15]"
            ]
          },
          "metadata": {},
          "execution_count": 41
        }
      ]
    },
    {
      "cell_type": "code",
      "source": [
        "lista.remove(15)"
      ],
      "metadata": {
        "id": "93In__mVE20B"
      },
      "execution_count": 42,
      "outputs": []
    },
    {
      "cell_type": "code",
      "source": [
        "lista"
      ],
      "metadata": {
        "colab": {
          "base_uri": "https://localhost:8080/"
        },
        "id": "SvJRi_qyE6Am",
        "outputId": "3bf8a812-bbb2-4114-a92f-e43f5307ed5d"
      },
      "execution_count": 43,
      "outputs": [
        {
          "output_type": "execute_result",
          "data": {
            "text/plain": [
              "[5, True, 'Matheus', 2, 7, 15]"
            ]
          },
          "metadata": {},
          "execution_count": 43
        }
      ]
    },
    {
      "cell_type": "markdown",
      "metadata": {
        "id": "pJtmqUzChMpe"
      },
      "source": [
        "Se você quiser remover um elemento de determinado índice, use a função \"pop()\":"
      ]
    },
    {
      "cell_type": "code",
      "execution_count": 44,
      "metadata": {
        "colab": {
          "base_uri": "https://localhost:8080/",
          "height": 35
        },
        "id": "2kW5L_JIhMpf",
        "outputId": "3969871a-cfe1-4433-c6c9-08ad1564789b"
      },
      "outputs": [
        {
          "output_type": "execute_result",
          "data": {
            "text/plain": [
              "'Matheus'"
            ],
            "application/vnd.google.colaboratory.intrinsic+json": {
              "type": "string"
            }
          },
          "metadata": {},
          "execution_count": 44
        }
      ],
      "source": [
        "lista.pop(2)"
      ]
    },
    {
      "cell_type": "code",
      "source": [
        "lista"
      ],
      "metadata": {
        "colab": {
          "base_uri": "https://localhost:8080/"
        },
        "id": "6hOET87zFObY",
        "outputId": "238ee60a-5458-4f92-a0cc-828c04c3194b"
      },
      "execution_count": 45,
      "outputs": [
        {
          "output_type": "execute_result",
          "data": {
            "text/plain": [
              "[5, True, 2, 7, 15]"
            ]
          },
          "metadata": {},
          "execution_count": 45
        }
      ]
    },
    {
      "cell_type": "markdown",
      "metadata": {
        "id": "-Sv8zlNyhMpf"
      },
      "source": [
        "Muitas vezes é interessante **ordenar a lista**. Pra fazer isso, usamos a função \"sorted\".\n",
        "\n",
        "**OBS: essa função só funciona para listas com o mesmo tipo de dado!**"
      ]
    },
    {
      "cell_type": "code",
      "execution_count": 46,
      "metadata": {
        "id": "hI6cQ1p-hMpf"
      },
      "outputs": [],
      "source": [
        "lista.append(4.2)\n",
        "lista.append(\"ada\")"
      ]
    },
    {
      "cell_type": "code",
      "source": [
        "lista"
      ],
      "metadata": {
        "colab": {
          "base_uri": "https://localhost:8080/"
        },
        "id": "oetTR6cXFd6v",
        "outputId": "b876040a-b4d6-4c16-b6c8-f2df8ae78077"
      },
      "execution_count": 47,
      "outputs": [
        {
          "output_type": "execute_result",
          "data": {
            "text/plain": [
              "[5, True, 2, 7, 15, 4.2, 'ada']"
            ]
          },
          "metadata": {},
          "execution_count": 47
        }
      ]
    },
    {
      "cell_type": "code",
      "source": [
        "sorted(lista)"
      ],
      "metadata": {
        "colab": {
          "base_uri": "https://localhost:8080/",
          "height": 141
        },
        "id": "biyLzGo6Fqb6",
        "outputId": "f2c16fb1-8958-4941-9c73-3f310eae4200"
      },
      "execution_count": 48,
      "outputs": [
        {
          "output_type": "error",
          "ename": "TypeError",
          "evalue": "'<' not supported between instances of 'str' and 'int'",
          "traceback": [
            "\u001b[0;31m---------------------------------------------------------------------------\u001b[0m",
            "\u001b[0;31mTypeError\u001b[0m                                 Traceback (most recent call last)",
            "\u001b[0;32m<ipython-input-48-06c3f264dc7a>\u001b[0m in \u001b[0;36m<cell line: 1>\u001b[0;34m()\u001b[0m\n\u001b[0;32m----> 1\u001b[0;31m \u001b[0msorted\u001b[0m\u001b[0;34m(\u001b[0m\u001b[0mlista\u001b[0m\u001b[0;34m)\u001b[0m\u001b[0;34m\u001b[0m\u001b[0;34m\u001b[0m\u001b[0m\n\u001b[0m",
            "\u001b[0;31mTypeError\u001b[0m: '<' not supported between instances of 'str' and 'int'"
          ]
        }
      ]
    },
    {
      "cell_type": "code",
      "source": [
        "lista_num = [10, 2, -6, 4.2, 8, 3.14]\n",
        "\n",
        "sorted(lista_num)"
      ],
      "metadata": {
        "colab": {
          "base_uri": "https://localhost:8080/"
        },
        "id": "r-BJ5BcuF8Pz",
        "outputId": "c515de3a-ae86-47f6-fd4f-b59e2c68346b"
      },
      "execution_count": 49,
      "outputs": [
        {
          "output_type": "execute_result",
          "data": {
            "text/plain": [
              "[-6, 2, 3.14, 4.2, 8, 10]"
            ]
          },
          "metadata": {},
          "execution_count": 49
        }
      ]
    },
    {
      "cell_type": "code",
      "source": [
        "'abacate' < \"biscoito\""
      ],
      "metadata": {
        "colab": {
          "base_uri": "https://localhost:8080/"
        },
        "id": "qEwrk7caGTIE",
        "outputId": "718e243e-c0b3-4162-c0a2-f643496ebba4"
      },
      "execution_count": 50,
      "outputs": [
        {
          "output_type": "execute_result",
          "data": {
            "text/plain": [
              "True"
            ]
          },
          "metadata": {},
          "execution_count": 50
        }
      ]
    },
    {
      "cell_type": "code",
      "source": [
        "lista_str = [\"abacate\", \"zebra\", \"urso\", \"biscoito\", \"Urso\", \"dado\", \"camarão\"]\n",
        "\n",
        "sorted(lista_str)"
      ],
      "metadata": {
        "colab": {
          "base_uri": "https://localhost:8080/"
        },
        "id": "CeijEQjhGIvj",
        "outputId": "3a8c63a4-08e6-4061-ecc1-da9d718fb958"
      },
      "execution_count": 51,
      "outputs": [
        {
          "output_type": "execute_result",
          "data": {
            "text/plain": [
              "['Urso', 'abacate', 'biscoito', 'camarão', 'dado', 'urso', 'zebra']"
            ]
          },
          "metadata": {},
          "execution_count": 51
        }
      ]
    },
    {
      "cell_type": "markdown",
      "metadata": {
        "id": "WBYvqIAXhMpf"
      },
      "source": [
        "Para **inverter a ordem dos elementos**, adicione ao final da lista [::-1]:"
      ]
    },
    {
      "cell_type": "code",
      "execution_count": 52,
      "metadata": {
        "colab": {
          "base_uri": "https://localhost:8080/"
        },
        "id": "YRtAKxvohMpf",
        "outputId": "a6fdacde-e3ee-400d-b7f0-b8cfef35fe83"
      },
      "outputs": [
        {
          "output_type": "execute_result",
          "data": {
            "text/plain": [
              "[10, 2, -6, 4.2, 8, 3.14]"
            ]
          },
          "metadata": {},
          "execution_count": 52
        }
      ],
      "source": [
        "lista_num"
      ]
    },
    {
      "cell_type": "code",
      "source": [
        "lista_num[::-1]"
      ],
      "metadata": {
        "colab": {
          "base_uri": "https://localhost:8080/"
        },
        "id": "3d6bwb1JG2BY",
        "outputId": "e89d181c-6d3d-4115-f387-5b706b889f57"
      },
      "execution_count": 53,
      "outputs": [
        {
          "output_type": "execute_result",
          "data": {
            "text/plain": [
              "[3.14, 8, 4.2, -6, 2, 10]"
            ]
          },
          "metadata": {},
          "execution_count": 53
        }
      ]
    },
    {
      "cell_type": "markdown",
      "metadata": {
        "id": "kYRY9cxPhMpf"
      },
      "source": [
        "Isso pode ser usado para ordenar uma lista na ordem inversa (maior pro menor):"
      ]
    },
    {
      "cell_type": "code",
      "source": [
        "sorted(lista_num)"
      ],
      "metadata": {
        "colab": {
          "base_uri": "https://localhost:8080/"
        },
        "id": "ilqK1TxhGzku",
        "outputId": "282bfb02-b2a3-41af-c27a-61d03a06b819"
      },
      "execution_count": 54,
      "outputs": [
        {
          "output_type": "execute_result",
          "data": {
            "text/plain": [
              "[-6, 2, 3.14, 4.2, 8, 10]"
            ]
          },
          "metadata": {},
          "execution_count": 54
        }
      ]
    },
    {
      "cell_type": "code",
      "execution_count": 55,
      "metadata": {
        "colab": {
          "base_uri": "https://localhost:8080/"
        },
        "id": "yEDin0PmhMpg",
        "outputId": "020207d3-cead-4086-b337-78cf7a4cd71c"
      },
      "outputs": [
        {
          "output_type": "execute_result",
          "data": {
            "text/plain": [
              "[10, 8, 4.2, 3.14, 2, -6]"
            ]
          },
          "metadata": {},
          "execution_count": 55
        }
      ],
      "source": [
        "sorted(lista_num)[::-1]"
      ]
    },
    {
      "cell_type": "markdown",
      "metadata": {
        "id": "7n1GbO5ihMpg"
      },
      "source": [
        "Se quisermos saber **qual é a posição (índice) de determinado elemento**, usamos o método \".index()\".\n",
        "\n",
        "Este método retorna apenas a **primeira aparição** do elemento:"
      ]
    },
    {
      "cell_type": "code",
      "execution_count": 56,
      "metadata": {
        "colab": {
          "base_uri": "https://localhost:8080/"
        },
        "id": "xG6LjVS-hMpg",
        "outputId": "1e1e1811-e48f-4659-ff2e-9c509e221f2f"
      },
      "outputs": [
        {
          "output_type": "execute_result",
          "data": {
            "text/plain": [
              "[10, 2, -6, 4.2, 8, 3.14]"
            ]
          },
          "metadata": {},
          "execution_count": 56
        }
      ],
      "source": [
        "lista_num"
      ]
    },
    {
      "cell_type": "code",
      "source": [
        "lista_num.index(4.2)"
      ],
      "metadata": {
        "colab": {
          "base_uri": "https://localhost:8080/"
        },
        "id": "syq_HlUpHSqs",
        "outputId": "42a575e1-5b7b-43b9-d819-9b7f6fbbc7d6"
      },
      "execution_count": 57,
      "outputs": [
        {
          "output_type": "execute_result",
          "data": {
            "text/plain": [
              "3"
            ]
          },
          "metadata": {},
          "execution_count": 57
        }
      ]
    },
    {
      "cell_type": "code",
      "source": [
        "lista_num.append(-6)"
      ],
      "metadata": {
        "id": "8A7VIW_pHaps"
      },
      "execution_count": 58,
      "outputs": []
    },
    {
      "cell_type": "code",
      "source": [
        "lista_num"
      ],
      "metadata": {
        "colab": {
          "base_uri": "https://localhost:8080/"
        },
        "id": "bm65dOKIHdn4",
        "outputId": "cabd6c56-a3b9-4068-d026-9ebc06809e56"
      },
      "execution_count": 59,
      "outputs": [
        {
          "output_type": "execute_result",
          "data": {
            "text/plain": [
              "[10, 2, -6, 4.2, 8, 3.14, -6]"
            ]
          },
          "metadata": {},
          "execution_count": 59
        }
      ]
    },
    {
      "cell_type": "code",
      "source": [
        "lista_num.index(-6)"
      ],
      "metadata": {
        "colab": {
          "base_uri": "https://localhost:8080/"
        },
        "id": "wbxNV1ZnHfOy",
        "outputId": "1b2c4475-841e-4055-82e5-5db872c83441"
      },
      "execution_count": 60,
      "outputs": [
        {
          "output_type": "execute_result",
          "data": {
            "text/plain": [
              "2"
            ]
          },
          "metadata": {},
          "execution_count": 60
        }
      ]
    },
    {
      "cell_type": "markdown",
      "metadata": {
        "id": "CvGjeqyLhMph"
      },
      "source": [
        "Por fim, podemos encontrar algumas **propriedades dos elementos da lista:**"
      ]
    },
    {
      "cell_type": "code",
      "execution_count": 61,
      "metadata": {
        "colab": {
          "base_uri": "https://localhost:8080/"
        },
        "id": "lwBiRg9dhMph",
        "outputId": "41e08827-c158-491a-ab8a-4b71ebbd4b9e"
      },
      "outputs": [
        {
          "output_type": "execute_result",
          "data": {
            "text/plain": [
              "[10, 2, -6, 4.2, 8, 3.14, -6]"
            ]
          },
          "metadata": {},
          "execution_count": 61
        }
      ],
      "source": [
        "lista_num"
      ]
    },
    {
      "cell_type": "markdown",
      "metadata": {
        "id": "zJaewY3ShMph"
      },
      "source": [
        "Para encontrar o maior elemento, use \"max()\":"
      ]
    },
    {
      "cell_type": "code",
      "execution_count": 62,
      "metadata": {
        "colab": {
          "base_uri": "https://localhost:8080/"
        },
        "id": "4kKycnVrhMph",
        "outputId": "9c476fdb-b62f-4a4e-89a6-693c230675ba"
      },
      "outputs": [
        {
          "output_type": "execute_result",
          "data": {
            "text/plain": [
              "10"
            ]
          },
          "metadata": {},
          "execution_count": 62
        }
      ],
      "source": [
        "max(lista_num)"
      ]
    },
    {
      "cell_type": "markdown",
      "metadata": {
        "id": "t6du6vtrhMph"
      },
      "source": [
        "Para encontrar o menor elemento, use \"min()\":"
      ]
    },
    {
      "cell_type": "code",
      "execution_count": 63,
      "metadata": {
        "colab": {
          "base_uri": "https://localhost:8080/"
        },
        "id": "ZuxAYrPBhMpi",
        "outputId": "570c488a-c137-4918-83d0-e59c052fb3c7"
      },
      "outputs": [
        {
          "output_type": "execute_result",
          "data": {
            "text/plain": [
              "-6"
            ]
          },
          "metadata": {},
          "execution_count": 63
        }
      ],
      "source": [
        "min(lista_num)"
      ]
    },
    {
      "cell_type": "markdown",
      "metadata": {
        "id": "L-LFWr9yhMpi"
      },
      "source": [
        "Para encontrar o número de elementos (ou seja, qual é o \"tamanho\" da lista), use \"len()\":"
      ]
    },
    {
      "cell_type": "code",
      "execution_count": 64,
      "metadata": {
        "colab": {
          "base_uri": "https://localhost:8080/"
        },
        "id": "gCcUGH8QhMpi",
        "outputId": "693b69bf-94ab-4dbf-e524-613eb5dd35da"
      },
      "outputs": [
        {
          "output_type": "execute_result",
          "data": {
            "text/plain": [
              "7"
            ]
          },
          "metadata": {},
          "execution_count": 64
        }
      ],
      "source": [
        "len(lista_num)"
      ]
    },
    {
      "cell_type": "markdown",
      "metadata": {
        "id": "Mw9jZedzhMpi"
      },
      "source": [
        "Para somar os elementos da lista, use \"sum()\":"
      ]
    },
    {
      "cell_type": "code",
      "execution_count": 65,
      "metadata": {
        "colab": {
          "base_uri": "https://localhost:8080/"
        },
        "id": "qyzX8XFfhMpj",
        "outputId": "7ddff7ca-5377-4bf3-a8b1-7b127e4ab7d7"
      },
      "outputs": [
        {
          "output_type": "execute_result",
          "data": {
            "text/plain": [
              "15.34"
            ]
          },
          "metadata": {},
          "execution_count": 65
        }
      ],
      "source": [
        "sum(lista_num)"
      ]
    },
    {
      "cell_type": "markdown",
      "metadata": {
        "id": "1cw4Rz5ahMpk"
      },
      "source": [
        "Agora fica bem fácil encontrar a média dos números em uma lista:"
      ]
    },
    {
      "cell_type": "code",
      "execution_count": 66,
      "metadata": {
        "colab": {
          "base_uri": "https://localhost:8080/"
        },
        "id": "RV2gNZJJhMpk",
        "outputId": "431428fa-374a-4eaf-8791-0fad9b4f854c"
      },
      "outputs": [
        {
          "output_type": "execute_result",
          "data": {
            "text/plain": [
              "2.1914285714285713"
            ]
          },
          "metadata": {},
          "execution_count": 66
        }
      ],
      "source": [
        "# media: soma_elementos/numero_de_elementos\n",
        "\n",
        "sum(lista_num)/len(lista_num)"
      ]
    },
    {
      "cell_type": "markdown",
      "metadata": {
        "id": "dJHuRUHWhMpk"
      },
      "source": [
        "__Um exemplo para o cálculo de média dos valores em uma lista...__\n",
        "\n",
        "Mas fazemos o usuário digitar os elementos da lista, um a um!"
      ]
    },
    {
      "cell_type": "code",
      "execution_count": 67,
      "metadata": {
        "colab": {
          "base_uri": "https://localhost:8080/"
        },
        "id": "--NIzz7XhMpl",
        "outputId": "54351aef-224a-4ee1-84d6-1bd499f62ff3"
      },
      "outputs": [
        {
          "output_type": "execute_result",
          "data": {
            "text/plain": [
              "7.375"
            ]
          },
          "metadata": {},
          "execution_count": 67
        }
      ],
      "source": [
        "n1 = 8\n",
        "n2 = 10\n",
        "n3 = 6.5\n",
        "n4 = 5\n",
        "\n",
        "media = (n1+n2+n3+n4)/4\n",
        "media"
      ]
    },
    {
      "cell_type": "code",
      "source": [
        "n1, n2, n3, n4 = 8, 10, 6.5, 5\n",
        "\n",
        "media = (n1+n2+n3+n4)/4\n",
        "media"
      ],
      "metadata": {
        "colab": {
          "base_uri": "https://localhost:8080/"
        },
        "id": "2_P13hegJE1F",
        "outputId": "4bf0effb-ef43-4a48-fd77-6ffb470badb9"
      },
      "execution_count": 68,
      "outputs": [
        {
          "output_type": "execute_result",
          "data": {
            "text/plain": [
              "7.375"
            ]
          },
          "metadata": {},
          "execution_count": 68
        }
      ]
    },
    {
      "cell_type": "code",
      "source": [
        "notas = [8, 10, 6.5, 5]\n",
        "\n",
        "media = sum(notas)/len(notas)\n",
        "media"
      ],
      "metadata": {
        "colab": {
          "base_uri": "https://localhost:8080/"
        },
        "id": "A_kKbUXIJO5R",
        "outputId": "2cd590a4-a8a8-4ba5-b686-0e5150e9c301"
      },
      "execution_count": 69,
      "outputs": [
        {
          "output_type": "execute_result",
          "data": {
            "text/plain": [
              "7.375"
            ]
          },
          "metadata": {},
          "execution_count": 69
        }
      ]
    },
    {
      "cell_type": "code",
      "source": [
        "# captando do usuário a quantidade de notas\n",
        "num_notas = int(input(\"Digite a quantidade de notas que quer inserir: \"))\n",
        "\n",
        "# lista com as notas, inicializada como vazia\n",
        "notas = []\n",
        "\n",
        "cont = 1\n",
        "while cont <= num_notas:\n",
        "\n",
        "  # capta do usuário uma nota\n",
        "  nota_atual = float(input(\"Digite a nota: \"))\n",
        "\n",
        "  notas.append(nota_atual)\n",
        "\n",
        "  cont += 1\n",
        "\n",
        "media = sum(notas)/len(notas)\n",
        "\n",
        "print(\"\\nA média é:\", media)"
      ],
      "metadata": {
        "colab": {
          "base_uri": "https://localhost:8080/"
        },
        "id": "EJZ0aIhbJkuj",
        "outputId": "a8864739-fcf4-4d54-895e-f616ea6c280f"
      },
      "execution_count": 70,
      "outputs": [
        {
          "output_type": "stream",
          "name": "stdout",
          "text": [
            "Digite a quantidade de notas que quer inserir: 1\n",
            "Digite a nota: 6.5\n",
            "\n",
            "A média é: 6.5\n"
          ]
        }
      ]
    },
    {
      "cell_type": "markdown",
      "metadata": {
        "id": "XaN9n0T6hMpl"
      },
      "source": [
        "__________"
      ]
    },
    {
      "cell_type": "markdown",
      "metadata": {
        "id": "BMLg3XXOhMpl"
      },
      "source": [
        "## 3) Iterador (for)\n",
        "\n",
        "Na última aula, vimos como usar o laço de repetição \"while\" para repetir operações em Python.\n",
        "\n",
        "Agora, veremos um outro laço, o **for**.\n",
        "\n",
        "Mas, antes de vermos como este laço pode ser utilizado para **repetir operações**, é interessante entender o `for` como sendo, na realidade, um operador utilizado para **percorrer elementos de uma lista** (na verdade, de qualquer objeto **iterável**. Conheceremos outros objetos assim mais pra frente...).\n",
        "\n",
        "> Por isso, o for, mais que um \"laço de repetição\", é, na verdade, uma **função iteradora** em Python.\n",
        "\n",
        "A estrutura do for é:\n",
        "\n",
        "```python\n",
        "for item in lista:\n",
        "    operacao_feita_pra_cada_item\n",
        "```"
      ]
    },
    {
      "cell_type": "code",
      "execution_count": 71,
      "metadata": {
        "colab": {
          "base_uri": "https://localhost:8080/"
        },
        "id": "qWgIzrXXhMpl",
        "outputId": "e86597a9-b212-4bff-c005-ec99b3862047"
      },
      "outputs": [
        {
          "output_type": "execute_result",
          "data": {
            "text/plain": [
              "[10, 2, -6, 4.2, 8, 3.14, -6]"
            ]
          },
          "metadata": {},
          "execution_count": 71
        }
      ],
      "source": [
        "lista_num"
      ]
    },
    {
      "cell_type": "code",
      "source": [
        "for item in lista_num:\n",
        "  print(item)"
      ],
      "metadata": {
        "colab": {
          "base_uri": "https://localhost:8080/"
        },
        "id": "738s7N24LYTs",
        "outputId": "0ca1a65b-f066-476f-b316-4d4da315869b"
      },
      "execution_count": 72,
      "outputs": [
        {
          "output_type": "stream",
          "name": "stdout",
          "text": [
            "10\n",
            "2\n",
            "-6\n",
            "4.2\n",
            "8\n",
            "3.14\n",
            "-6\n"
          ]
        }
      ]
    },
    {
      "cell_type": "markdown",
      "metadata": {
        "id": "t1xMo2I1hMpm"
      },
      "source": [
        "O código acima é equivalente a:"
      ]
    },
    {
      "cell_type": "code",
      "execution_count": 73,
      "metadata": {
        "colab": {
          "base_uri": "https://localhost:8080/"
        },
        "id": "J14PUU8IhMpm",
        "outputId": "9a989fb0-2c32-4bda-8b30-bdb9054b6595"
      },
      "outputs": [
        {
          "output_type": "stream",
          "name": "stdout",
          "text": [
            "10\n",
            "2\n",
            "-6\n",
            "4.2\n",
            "8\n",
            "3.14\n",
            "-6\n"
          ]
        }
      ],
      "source": [
        "print(lista_num[0])\n",
        "print(lista_num[1])\n",
        "print(lista_num[2])\n",
        "print(lista_num[3])\n",
        "print(lista_num[4])\n",
        "print(lista_num[5])\n",
        "print(lista_num[6])"
      ]
    },
    {
      "cell_type": "markdown",
      "metadata": {
        "id": "LPyMNckLhMpm"
      },
      "source": [
        "__Um exemplo de uso...__\n",
        "\n",
        "Separando números positivos e negativos de uma lista de números"
      ]
    },
    {
      "cell_type": "code",
      "execution_count": 74,
      "metadata": {
        "id": "wJQi_ij6hMpm"
      },
      "outputs": [],
      "source": [
        "lista_num = [-10, 2, -6, 4.2, -8, 3.14, -6, 0]"
      ]
    },
    {
      "cell_type": "code",
      "source": [
        "lista_num_pos = []\n",
        "lista_num_neg = []\n",
        "lista_num_neutro = []\n",
        "\n",
        "for elemento in lista_num:\n",
        "  if elemento < 0:\n",
        "    lista_num_neg.append(elemento)\n",
        "  elif elemento > 0:\n",
        "    lista_num_pos.append(elemento)\n",
        "  else:\n",
        "    lista_num_neutro.append(elemento)\n",
        "\n",
        "print(lista_num_pos)\n",
        "print(lista_num_neg)\n",
        "print(lista_num_neutro)"
      ],
      "metadata": {
        "colab": {
          "base_uri": "https://localhost:8080/"
        },
        "id": "4qyiov06Mcg5",
        "outputId": "d4c5f330-e0e4-4392-af25-d1535eb69a6a"
      },
      "execution_count": 75,
      "outputs": [
        {
          "output_type": "stream",
          "name": "stdout",
          "text": [
            "[2, 4.2, 3.14]\n",
            "[-10, -6, -8, -6]\n",
            "[0]\n"
          ]
        }
      ]
    },
    {
      "cell_type": "markdown",
      "metadata": {
        "id": "_0j8JSQihMpn"
      },
      "source": [
        "O \"for\" percorre todos os elementos de uma lista, a não ser que o \"break\" seja utilizado -- esse comando quebra o for, ou seja, os elementos param de ser percorridos:"
      ]
    },
    {
      "cell_type": "code",
      "source": [
        "lista_num = [-10, -2, -6, 4.2, -8, 3.14, -6, 0]"
      ],
      "metadata": {
        "id": "30B5ntbpNz5U"
      },
      "execution_count": 76,
      "outputs": []
    },
    {
      "cell_type": "code",
      "execution_count": 77,
      "metadata": {
        "colab": {
          "base_uri": "https://localhost:8080/"
        },
        "id": "b53joyTYhMpn",
        "outputId": "617fea97-59a6-46c6-af67-d2afab8eaa57"
      },
      "outputs": [
        {
          "output_type": "stream",
          "name": "stdout",
          "text": [
            "-10\n",
            "-2\n",
            "-6\n",
            "4.2\n"
          ]
        }
      ],
      "source": [
        "for elemento in lista_num:\n",
        "  print(elemento)\n",
        "\n",
        "  if elemento > 0:\n",
        "    break"
      ]
    },
    {
      "cell_type": "markdown",
      "metadata": {
        "id": "FBavLvWZhMpn"
      },
      "source": [
        "Podemos fazer operações com os elementos de umas lista e usá-los pra preencher outra lista:"
      ]
    },
    {
      "cell_type": "code",
      "source": [
        "lista_num*2"
      ],
      "metadata": {
        "colab": {
          "base_uri": "https://localhost:8080/"
        },
        "id": "iDbjIlITO7qt",
        "outputId": "65651326-ba68-4209-cb27-df1706ab498f"
      },
      "execution_count": 78,
      "outputs": [
        {
          "output_type": "execute_result",
          "data": {
            "text/plain": [
              "[-10, -2, -6, 4.2, -8, 3.14, -6, 0, -10, -2, -6, 4.2, -8, 3.14, -6, 0]"
            ]
          },
          "metadata": {},
          "execution_count": 78
        }
      ]
    },
    {
      "cell_type": "code",
      "execution_count": 79,
      "metadata": {
        "colab": {
          "base_uri": "https://localhost:8080/"
        },
        "id": "ejIn1QrfhMpn",
        "outputId": "40149997-9902-44dc-b5e1-fbd1b817f4e0"
      },
      "outputs": [
        {
          "output_type": "execute_result",
          "data": {
            "text/plain": [
              "[-20, -4, -12, 8.4, -16, 6.28, -12, 0]"
            ]
          },
          "metadata": {},
          "execution_count": 79
        }
      ],
      "source": [
        "lista_num_dobro = []\n",
        "\n",
        "for elemento in lista_num:\n",
        "  lista_num_dobro.append(2*elemento)\n",
        "\n",
        "lista_num_dobro"
      ]
    },
    {
      "cell_type": "code",
      "source": [
        "lista_num"
      ],
      "metadata": {
        "colab": {
          "base_uri": "https://localhost:8080/"
        },
        "id": "zxW5XE-0N9tP",
        "outputId": "ee6fd395-84cc-440d-f6ab-ae6859e21026"
      },
      "execution_count": 80,
      "outputs": [
        {
          "output_type": "execute_result",
          "data": {
            "text/plain": [
              "[-10, -2, -6, 4.2, -8, 3.14, -6, 0]"
            ]
          },
          "metadata": {},
          "execution_count": 80
        }
      ]
    },
    {
      "cell_type": "code",
      "source": [
        "l1 = [1, 2, 3]\n",
        "l2 = [4, 5, 6]\n",
        "\n",
        "l1 + l2"
      ],
      "metadata": {
        "colab": {
          "base_uri": "https://localhost:8080/"
        },
        "id": "tSz3r9HuOv4p",
        "outputId": "70450ee1-6122-45f3-8022-d10407840129"
      },
      "execution_count": 81,
      "outputs": [
        {
          "output_type": "execute_result",
          "data": {
            "text/plain": [
              "[1, 2, 3, 4, 5, 6]"
            ]
          },
          "metadata": {},
          "execution_count": 81
        }
      ]
    },
    {
      "cell_type": "code",
      "source": [
        "lista_soma = []\n",
        "\n",
        "for elemento1, elemento2 in zip(l1, l2):\n",
        "\n",
        "  lista_soma.append(elemento1 + elemento2)\n",
        "\n",
        "lista_soma"
      ],
      "metadata": {
        "colab": {
          "base_uri": "https://localhost:8080/"
        },
        "id": "UNPPlouLO45e",
        "outputId": "c82e9f09-e1e1-46c3-b34d-fda6b7795f9c"
      },
      "execution_count": 82,
      "outputs": [
        {
          "output_type": "execute_result",
          "data": {
            "text/plain": [
              "[5, 7, 9]"
            ]
          },
          "metadata": {},
          "execution_count": 82
        }
      ]
    },
    {
      "cell_type": "markdown",
      "metadata": {
        "id": "InZSDyZ4hMpo"
      },
      "source": [
        "_____\n",
        "\n",
        "### 3.1) Compreensão de listas\n",
        "\n",
        "Uma estrutura extremamente útil em python é a __compreensão de listas__ (list comprehension), com a qual é possível construir listas novas a partir de outras listas de forma bem condensada!\n",
        "\n",
        "A sintaxe é:\n",
        "\n",
        "```python\n",
        "[operacao_sobre_os_items for item in lista_base]\n",
        "```"
      ]
    },
    {
      "cell_type": "markdown",
      "metadata": {
        "id": "xJLU4CgNhMpo"
      },
      "source": [
        "Por exemplo, é possível criar a mesma \"lista_dobro\" definida acima, de forma muito mais condensada:"
      ]
    },
    {
      "cell_type": "code",
      "execution_count": 83,
      "metadata": {
        "colab": {
          "base_uri": "https://localhost:8080/"
        },
        "id": "LqDBnzc1hMpo",
        "outputId": "bfa31a40-cd0c-450e-8dcd-ec9704efa42f"
      },
      "outputs": [
        {
          "output_type": "execute_result",
          "data": {
            "text/plain": [
              "[-20, -4, -12, 8.4, -16, 6.28, -12, 0]"
            ]
          },
          "metadata": {},
          "execution_count": 83
        }
      ],
      "source": [
        "lista_num_dobro = []\n",
        "\n",
        "for elemento in lista_num:\n",
        "  lista_num_dobro.append(2*elemento)\n",
        "\n",
        "lista_num_dobro"
      ]
    },
    {
      "cell_type": "code",
      "source": [
        "lista_num_dobro = [2*elemento for elemento in lista_num]\n",
        "\n",
        "lista_num_dobro"
      ],
      "metadata": {
        "colab": {
          "base_uri": "https://localhost:8080/"
        },
        "id": "SvZ-a5B6P7c9",
        "outputId": "371b1b2a-6d2b-4fb1-a491-59bed20ba12d"
      },
      "execution_count": 84,
      "outputs": [
        {
          "output_type": "execute_result",
          "data": {
            "text/plain": [
              "[-20, -4, -12, 8.4, -16, 6.28, -12, 0]"
            ]
          },
          "metadata": {},
          "execution_count": 84
        }
      ]
    },
    {
      "cell_type": "markdown",
      "metadata": {
        "id": "UIhTLd8yhMpp"
      },
      "source": [
        "Também é possível construir uma lista usando compreensão de listas com base em alguma estrutura condicional!\n",
        "\n",
        "Se você for utilizar apenas o if, a sintaxe é:\n",
        "\n",
        "```python\n",
        "[operacao_sobre_os_items for item in lista_base if condicao]\n",
        "```"
      ]
    },
    {
      "cell_type": "code",
      "source": [
        "lista_num"
      ],
      "metadata": {
        "colab": {
          "base_uri": "https://localhost:8080/"
        },
        "id": "37PDbR3xQw6q",
        "outputId": "4ac797d5-e8c2-4e88-c86f-f087b3e38e1c"
      },
      "execution_count": 85,
      "outputs": [
        {
          "output_type": "execute_result",
          "data": {
            "text/plain": [
              "[-10, -2, -6, 4.2, -8, 3.14, -6, 0]"
            ]
          },
          "metadata": {},
          "execution_count": 85
        }
      ]
    },
    {
      "cell_type": "code",
      "execution_count": 86,
      "metadata": {
        "colab": {
          "base_uri": "https://localhost:8080/"
        },
        "id": "saduz1xihMpp",
        "outputId": "9d4d5dad-72e7-41e4-8ad3-1a27cbef4aec"
      },
      "outputs": [
        {
          "output_type": "execute_result",
          "data": {
            "text/plain": [
              "[8.4, 6.28]"
            ]
          },
          "metadata": {},
          "execution_count": 86
        }
      ],
      "source": [
        "lista_dobro_positivos = []\n",
        "\n",
        "for elemento in lista_num:\n",
        "  if elemento > 0:\n",
        "    lista_dobro_positivos.append(2*elemento)\n",
        "\n",
        "lista_dobro_positivos"
      ]
    },
    {
      "cell_type": "code",
      "source": [
        "lista_dobro_positivos = [2*elemento for elemento in lista_num if elemento > 0]\n",
        "\n",
        "lista_dobro_positivos"
      ],
      "metadata": {
        "colab": {
          "base_uri": "https://localhost:8080/"
        },
        "id": "PWUzrGRNQ2d7",
        "outputId": "d6976100-2404-458a-a5c8-94ea747cb90a"
      },
      "execution_count": 87,
      "outputs": [
        {
          "output_type": "execute_result",
          "data": {
            "text/plain": [
              "[8.4, 6.28]"
            ]
          },
          "metadata": {},
          "execution_count": 87
        }
      ]
    },
    {
      "cell_type": "markdown",
      "metadata": {
        "id": "GsdjNdfFhMpp"
      },
      "source": [
        "Caso você queira utilizar também o else como parte da estrutura condicional, a sintaxe muda um pouco:\n",
        "\n",
        "```python\n",
        "[valor_caso_if if condicao else valor_caso_else for item in lista_base]\n",
        "```"
      ]
    },
    {
      "cell_type": "code",
      "source": [
        "lista_num = [4, 7, 13, 15, 1, 8, 16, 20, 3]\n",
        "\n",
        "lista_num"
      ],
      "metadata": {
        "colab": {
          "base_uri": "https://localhost:8080/"
        },
        "id": "Am6TmIuMRN9g",
        "outputId": "929d7ece-4aec-489c-e10a-76fa7b7f1369"
      },
      "execution_count": 88,
      "outputs": [
        {
          "output_type": "execute_result",
          "data": {
            "text/plain": [
              "[4, 7, 13, 15, 1, 8, 16, 20, 3]"
            ]
          },
          "metadata": {},
          "execution_count": 88
        }
      ]
    },
    {
      "cell_type": "code",
      "source": [
        "[\"par\", \"impar\", \"impar\", ..., \"impar\"]"
      ],
      "metadata": {
        "id": "KyfGSqWyRQnu",
        "colab": {
          "base_uri": "https://localhost:8080/"
        },
        "outputId": "cf56d398-402c-4266-9496-33c743a6687d"
      },
      "execution_count": 89,
      "outputs": [
        {
          "output_type": "execute_result",
          "data": {
            "text/plain": [
              "['par', 'impar', 'impar', Ellipsis, 'impar']"
            ]
          },
          "metadata": {},
          "execution_count": 89
        }
      ]
    },
    {
      "cell_type": "code",
      "source": [
        "4 % 2"
      ],
      "metadata": {
        "colab": {
          "base_uri": "https://localhost:8080/"
        },
        "id": "eZ-bu2uyRfpO",
        "outputId": "fa1b14d1-cd0f-4af5-a3e8-546b0367b67b"
      },
      "execution_count": 90,
      "outputs": [
        {
          "output_type": "execute_result",
          "data": {
            "text/plain": [
              "0"
            ]
          },
          "metadata": {},
          "execution_count": 90
        }
      ]
    },
    {
      "cell_type": "code",
      "source": [
        "7 % 2"
      ],
      "metadata": {
        "colab": {
          "base_uri": "https://localhost:8080/"
        },
        "id": "LCs7HFN6RqZ-",
        "outputId": "2ea23c49-ba7e-4e5f-ec01-333ce2e7b18b"
      },
      "execution_count": 91,
      "outputs": [
        {
          "output_type": "execute_result",
          "data": {
            "text/plain": [
              "1"
            ]
          },
          "metadata": {},
          "execution_count": 91
        }
      ]
    },
    {
      "cell_type": "code",
      "source": [
        "numero = 7\n",
        "\n",
        "# o numero é par?\n",
        "if numero % 2 == 0:\n",
        "  print(\"par\")\n",
        "else:\n",
        "  print(\"impar\")"
      ],
      "metadata": {
        "colab": {
          "base_uri": "https://localhost:8080/"
        },
        "id": "kgup_y0uRt97",
        "outputId": "ff499c90-78a8-484d-ce49-f64c263f141e"
      },
      "execution_count": 92,
      "outputs": [
        {
          "output_type": "stream",
          "name": "stdout",
          "text": [
            "impar\n"
          ]
        }
      ]
    },
    {
      "cell_type": "code",
      "execution_count": 95,
      "metadata": {
        "colab": {
          "base_uri": "https://localhost:8080/"
        },
        "id": "VjnY3LwvhMpq",
        "outputId": "2c1cf731-c987-4d9d-a5c7-3e7cefa6d2c6"
      },
      "outputs": [
        {
          "output_type": "execute_result",
          "data": {
            "text/plain": [
              "['par', 'ímpar', 'ímpar', 'ímpar', 'ímpar', 'par', 'par', 'par', 'ímpar']"
            ]
          },
          "metadata": {},
          "execution_count": 95
        }
      ],
      "source": [
        "lista_par_ou_impar = []\n",
        "\n",
        "for elemento in lista_num:\n",
        "\n",
        "  if elemento % 2 == 0:\n",
        "    lista_par_ou_impar.append(\"par\")\n",
        "  else:\n",
        "    lista_par_ou_impar.append(\"ímpar\")\n",
        "\n",
        "lista_par_ou_impar"
      ]
    },
    {
      "cell_type": "code",
      "source": [
        "lista_num"
      ],
      "metadata": {
        "colab": {
          "base_uri": "https://localhost:8080/"
        },
        "id": "LwIXYppzSIwm",
        "outputId": "41a198ec-294b-46ac-d5e2-05c4bd22e1cc"
      },
      "execution_count": 93,
      "outputs": [
        {
          "output_type": "execute_result",
          "data": {
            "text/plain": [
              "[4, 7, 13, 15, 1, 8, 16, 20, 3]"
            ]
          },
          "metadata": {},
          "execution_count": 93
        }
      ]
    },
    {
      "cell_type": "code",
      "source": [
        "lista_par_ou_impar = [\"par\" if elemento % 2 == 0 else \"ímpar\" for elemento in lista_num]\n",
        "\n",
        "lista_par_ou_impar\n"
      ],
      "metadata": {
        "colab": {
          "base_uri": "https://localhost:8080/"
        },
        "id": "d-YM0D5JSRBc",
        "outputId": "6d0dd353-962a-4b20-ec97-30a5a64dcdc0"
      },
      "execution_count": 94,
      "outputs": [
        {
          "output_type": "execute_result",
          "data": {
            "text/plain": [
              "['par', 'ímpar', 'ímpar', 'ímpar', 'ímpar', 'par', 'par', 'par', 'ímpar']"
            ]
          },
          "metadata": {},
          "execution_count": 94
        }
      ]
    },
    {
      "cell_type": "markdown",
      "metadata": {
        "id": "bABtYgQGhMpq"
      },
      "source": [
        "_____"
      ]
    },
    {
      "cell_type": "markdown",
      "metadata": {
        "id": "xKrs8BsbhMpq"
      },
      "source": [
        "É muito comum utilizarmos a função \"range()\" juntamente do for, para que o iterador funcione explicitamente como um laço de repetição.\n",
        "\n",
        "Essa função cria um **intervalo**, que é uma espécie de \"lista virtual\" de **números em sequência**. Sua sintaxe é:\n",
        "\n",
        "- `range(primeiro_numero, último_numero - 1, passo)`"
      ]
    },
    {
      "cell_type": "markdown",
      "metadata": {
        "id": "9Jp-ZbLFhMpq"
      },
      "source": [
        "Se for dado apenas um argumento, o padrão é começar por zero, e ir de 1 em 1:\n",
        "\n",
        "> `range(10)` é equivalente a range(0, 10, 1), cria uma sequência de 0 a 9, de 1 em 1\n",
        "> `range(-12, 12, 2)`: cria uma sequência de -12 a 11, de 2 em 2\n",
        "\n",
        "Ao fazermos `list(range())`, obtermos uma lista correspondente ao iterável.\n",
        "\n",
        "**OBS: só podemos utilizar inteiros no range!**"
      ]
    },
    {
      "cell_type": "code",
      "source": [
        "list(range(1, 10, 2))"
      ],
      "metadata": {
        "colab": {
          "base_uri": "https://localhost:8080/"
        },
        "id": "2vBSQt-8e8Ed",
        "outputId": "ebc1af24-fae4-4d2e-df45-15a69286f627"
      },
      "execution_count": 100,
      "outputs": [
        {
          "output_type": "execute_result",
          "data": {
            "text/plain": [
              "[1, 3, 5, 7, 9]"
            ]
          },
          "metadata": {},
          "execution_count": 100
        }
      ]
    },
    {
      "cell_type": "code",
      "execution_count": 95,
      "metadata": {
        "colab": {
          "base_uri": "https://localhost:8080/"
        },
        "id": "G8nmN4akhMpr",
        "outputId": "d12222c0-c6e3-4672-cd95-7df4394110f8"
      },
      "outputs": [
        {
          "output_type": "execute_result",
          "data": {
            "text/plain": [
              "[1, 2, 3, 4, 5, 6, 7, 8, 9]"
            ]
          },
          "metadata": {},
          "execution_count": 95
        }
      ],
      "source": [
        "list(range(1, 10, 1))"
      ]
    },
    {
      "cell_type": "code",
      "source": [
        "list(range(0, 4, 1))"
      ],
      "metadata": {
        "colab": {
          "base_uri": "https://localhost:8080/"
        },
        "id": "3YsVM_zYTPvQ",
        "outputId": "2c338e36-7cc5-4204-a9ba-c821396e2ae9"
      },
      "execution_count": 96,
      "outputs": [
        {
          "output_type": "execute_result",
          "data": {
            "text/plain": [
              "[0, 1, 2, 3]"
            ]
          },
          "metadata": {},
          "execution_count": 96
        }
      ]
    },
    {
      "cell_type": "code",
      "source": [
        "# me dê uma sequencia de 4 elementos que começa em zero (e, portanto, termina em 3)\n",
        "list(range(4))"
      ],
      "metadata": {
        "colab": {
          "base_uri": "https://localhost:8080/"
        },
        "id": "ZrAr6KWGTLlY",
        "outputId": "b9b5bf1a-4454-429d-b2ef-9f6136df9da5"
      },
      "execution_count": 97,
      "outputs": [
        {
          "output_type": "execute_result",
          "data": {
            "text/plain": [
              "[0, 1, 2, 3]"
            ]
          },
          "metadata": {},
          "execution_count": 97
        }
      ]
    },
    {
      "cell_type": "code",
      "source": [
        "n = 9\n",
        "\n",
        "# me dê uma sequencia de n elementos que começa em zero (e, portanto, termina em n-1)\n",
        "list(range(n))"
      ],
      "metadata": {
        "colab": {
          "base_uri": "https://localhost:8080/"
        },
        "id": "wO60ZLR-TgqG",
        "outputId": "f8638f52-e05d-4fe3-fb3c-d828d584f34a"
      },
      "execution_count": 98,
      "outputs": [
        {
          "output_type": "execute_result",
          "data": {
            "text/plain": [
              "[0, 1, 2, 3, 4, 5, 6, 7, 8]"
            ]
          },
          "metadata": {},
          "execution_count": 98
        }
      ]
    },
    {
      "cell_type": "markdown",
      "metadata": {
        "id": "tsMuk2a1hMpr"
      },
      "source": [
        "É muito comum usar o for com o range para **percorrer os índices de uma lista**, e assim também **acessar os elementos da lista através do índice**.\n",
        "\n",
        "Isso é feito passando pro range o comprinento da lista como argumento:"
      ]
    },
    {
      "cell_type": "code",
      "execution_count": 101,
      "metadata": {
        "colab": {
          "base_uri": "https://localhost:8080/"
        },
        "id": "PkdBBDc_hMpr",
        "outputId": "346a24a0-ce41-406b-b935-d2277be52d51"
      },
      "outputs": [
        {
          "output_type": "execute_result",
          "data": {
            "text/plain": [
              "[4, 7, 13, 15, 1, 8, 16, 20, 3]"
            ]
          },
          "metadata": {},
          "execution_count": 101
        }
      ],
      "source": [
        "lista_num"
      ]
    },
    {
      "cell_type": "code",
      "source": [
        "len(lista_num)"
      ],
      "metadata": {
        "colab": {
          "base_uri": "https://localhost:8080/"
        },
        "id": "YR-i4qNjTwi1",
        "outputId": "f0bf6da4-0deb-43fa-f766-407921ef0bcf"
      },
      "execution_count": 102,
      "outputs": [
        {
          "output_type": "execute_result",
          "data": {
            "text/plain": [
              "9"
            ]
          },
          "metadata": {},
          "execution_count": 102
        }
      ]
    },
    {
      "cell_type": "code",
      "source": [
        "for indice in range(len(lista_num)):\n",
        "\n",
        "  # caso eu queira visualizar apenas os elementos de indice par\n",
        "  if indice % 2 == 0:\n",
        "    print(lista_num[indice])"
      ],
      "metadata": {
        "colab": {
          "base_uri": "https://localhost:8080/"
        },
        "id": "zGX5inyMT6lm",
        "outputId": "799a7f2f-728d-4771-b17e-9e91a17adc0d"
      },
      "execution_count": 103,
      "outputs": [
        {
          "output_type": "stream",
          "name": "stdout",
          "text": [
            "4\n",
            "13\n",
            "1\n",
            "16\n",
            "3\n"
          ]
        }
      ]
    },
    {
      "cell_type": "markdown",
      "metadata": {
        "id": "T-q4ecYbhMpr"
      },
      "source": [
        "Note a diferença do que foi feito acima e o que é feito abaixo:"
      ]
    },
    {
      "cell_type": "code",
      "execution_count": 104,
      "metadata": {
        "colab": {
          "base_uri": "https://localhost:8080/"
        },
        "id": "A07Y_oSghMpr",
        "outputId": "c3063e20-12ee-4986-b6ae-1f881374da9d"
      },
      "outputs": [
        {
          "output_type": "stream",
          "name": "stdout",
          "text": [
            "4\n",
            "7\n",
            "13\n",
            "15\n",
            "1\n",
            "8\n",
            "16\n",
            "20\n",
            "3\n"
          ]
        }
      ],
      "source": [
        "for elemento in lista_num:\n",
        "  print(elemento)"
      ]
    },
    {
      "cell_type": "markdown",
      "metadata": {
        "id": "lWaWOO6RhMps"
      },
      "source": [
        "O range é muito interessante caso **queiramos repetir determinada instrução N vezes.**\n",
        "\n",
        "Para isso, basta fazer:\n",
        "\n",
        "```python\n",
        "for i in range(N):\n",
        "    operacao_repetida\n",
        "```\n",
        "\n",
        "> É assim que o `for` passa a ser explicitamente um laço de repetição!\n",
        "\n",
        "Mas note que este laço se diferencia do while no fato de **não precisar de uma condição explícita**.\n",
        "\n",
        "Este laço determina que as operações sejam repetidas **para valores em um iterável** (que no caso é o `range`).\n",
        "\n",
        "Este laço é, portanto, bem mais controlado -- dificilmente ocorrerá loops infinitos!"
      ]
    },
    {
      "cell_type": "code",
      "execution_count": 106,
      "metadata": {
        "colab": {
          "base_uri": "https://localhost:8080/"
        },
        "id": "imtTTBdrhMps",
        "outputId": "a25cdf36-4912-4a26-c933-5d731815cd48"
      },
      "outputs": [
        {
          "output_type": "stream",
          "name": "stdout",
          "text": [
            "Olá, mundo!\n",
            "Olá, mundo!\n",
            "Olá, mundo!\n",
            "Olá, mundo!\n",
            "Olá, mundo!\n"
          ]
        }
      ],
      "source": [
        "N = 5\n",
        "\n",
        "# percorre uma sequencia de N elementos, e, portanto, printa N vezes\n",
        "for _ in range(N):\n",
        "  print(\"Olá, mundo!\")"
      ]
    },
    {
      "cell_type": "markdown",
      "metadata": {
        "id": "YLH4vYh1hMps"
      },
      "source": [
        "Note que o código acima é equivalente a:"
      ]
    },
    {
      "cell_type": "code",
      "execution_count": 107,
      "metadata": {
        "colab": {
          "base_uri": "https://localhost:8080/"
        },
        "id": "lTn6mv_xhMpt",
        "outputId": "2fbad115-ee1d-4044-ed42-a821ceecc992"
      },
      "outputs": [
        {
          "output_type": "stream",
          "name": "stdout",
          "text": [
            "Olá, mundo!\n",
            "Olá, mundo!\n",
            "Olá, mundo!\n",
            "Olá, mundo!\n",
            "Olá, mundo!\n"
          ]
        }
      ],
      "source": [
        "cont = 1\n",
        "\n",
        "while cont <= N:\n",
        "  print(\"Olá, mundo!\")\n",
        "  cont += 1"
      ]
    },
    {
      "cell_type": "markdown",
      "metadata": {
        "id": "LYWvXGBbhMpt"
      },
      "source": [
        "Exemplo de uso com o break: qual é o índice do primeiro elemento negativo de uma lista?"
      ]
    },
    {
      "cell_type": "code",
      "source": [
        "lista_num = [4, 7, 13, -15, 1, 8, 16, 20, 3]"
      ],
      "metadata": {
        "id": "jVKhkZOZVemj"
      },
      "execution_count": 108,
      "outputs": []
    },
    {
      "cell_type": "code",
      "execution_count": 109,
      "metadata": {
        "colab": {
          "base_uri": "https://localhost:8080/"
        },
        "id": "nb1b4EdWhMpt",
        "outputId": "ad4d5845-5a89-4975-de28-144914aab518"
      },
      "outputs": [
        {
          "output_type": "stream",
          "name": "stdout",
          "text": [
            "-15\n"
          ]
        }
      ],
      "source": [
        "for elemento in lista_num:\n",
        "  if elemento < 0:\n",
        "    print(elemento)\n",
        "    break"
      ]
    },
    {
      "cell_type": "code",
      "source": [
        "for i in range(len(lista_num)):\n",
        "  if lista_num[i] < 0:\n",
        "    print(i)\n",
        "    break"
      ],
      "metadata": {
        "colab": {
          "base_uri": "https://localhost:8080/"
        },
        "id": "V_IP_JgpVnQo",
        "outputId": "04633629-4680-4f52-8293-71bf494dfa68"
      },
      "execution_count": 110,
      "outputs": [
        {
          "output_type": "stream",
          "name": "stdout",
          "text": [
            "3\n"
          ]
        }
      ]
    },
    {
      "cell_type": "markdown",
      "source": [
        "## Lição de casa: problema gerador com o for ao invés do while\n",
        "\n",
        "### Desafio: construa a lista de notas em uma única linha!"
      ],
      "metadata": {
        "id": "lR-hgb8KWIPB"
      }
    },
    {
      "cell_type": "code",
      "source": [
        "lista = list(range(10))\n",
        "print(lista[3::-1])"
      ],
      "metadata": {
        "id": "bQ5Pe9N3WOmz",
        "colab": {
          "base_uri": "https://localhost:8080/"
        },
        "outputId": "2cafc202-2b22-459e-9c78-173e0f71edbe"
      },
      "execution_count": 112,
      "outputs": [
        {
          "output_type": "stream",
          "name": "stdout",
          "text": [
            "[3, 2, 1, 0]\n"
          ]
        }
      ]
    },
    {
      "cell_type": "code",
      "source": [
        "lista1 = [1, 2, 3, 4]\n",
        "lista2 = lista1\n",
        "lista2.append(5)\n",
        "print(lista1)\n",
        "print(lista2)"
      ],
      "metadata": {
        "colab": {
          "base_uri": "https://localhost:8080/"
        },
        "id": "-zDDVYIogk0z",
        "outputId": "ff7d5cd7-92b7-44fa-8b8d-03f07dfa223a"
      },
      "execution_count": 113,
      "outputs": [
        {
          "output_type": "stream",
          "name": "stdout",
          "text": [
            "[1, 2, 3, 4, 5]\n",
            "[1, 2, 3, 4, 5]\n"
          ]
        }
      ]
    },
    {
      "cell_type": "code",
      "source": [],
      "metadata": {
        "id": "jCyL7OeQg7w1"
      },
      "execution_count": null,
      "outputs": []
    }
  ],
  "metadata": {
    "kernelspec": {
      "display_name": "Python 3",
      "language": "python",
      "name": "python3"
    },
    "language_info": {
      "codemirror_mode": {
        "name": "ipython",
        "version": 3
      },
      "file_extension": ".py",
      "mimetype": "text/x-python",
      "name": "python",
      "nbconvert_exporter": "python",
      "pygments_lexer": "ipython3",
      "version": "3.8.3"
    },
    "colab": {
      "provenance": [],
      "include_colab_link": true
    }
  },
  "nbformat": 4,
  "nbformat_minor": 0
}